{
  "nbformat": 4,
  "nbformat_minor": 0,
  "metadata": {
    "colab": {
      "provenance": [],
      "authorship_tag": "ABX9TyOUlWfPfqT5D6r2Q4it9DFT",
      "include_colab_link": true
    },
    "kernelspec": {
      "name": "python3",
      "display_name": "Python 3"
    },
    "language_info": {
      "name": "python"
    }
  },
  "cells": [
    {
      "cell_type": "markdown",
      "metadata": {
        "id": "view-in-github",
        "colab_type": "text"
      },
      "source": [
        "<a href=\"https://colab.research.google.com/github/Rathachai/rdfviz/blob/main/ex/rdfviz-examples.ipynb\" target=\"_parent\"><img src=\"https://colab.research.google.com/assets/colab-badge.svg\" alt=\"Open In Colab\"/></a>"
      ]
    },
    {
      "cell_type": "markdown",
      "source": [
        "# **RDF Visualization in Notebook : Examples**\n",
        "> ## *Author* : [Rathachai CHAWUTHAI](https://rathachai.creatier.pro/) , Ph.D\n",
        "> ### *Affiliation* : Computer Engineering, King Mongkut's Institute of Technology Ladkrabang (KMITL)\n",
        "> #### *Updated Date* : 2023-11-16\n",
        "---"
      ],
      "metadata": {
        "id": "Bv40XFBxtsWt"
      }
    },
    {
      "cell_type": "markdown",
      "source": [
        "> <a rel=\"license\" href=\"http://creativecommons.org/licenses/by-nc-sa/4.0/\"><img alt=\"Creative Commons License\" style=\"border-width:0\" src=\"https://i.creativecommons.org/l/by-nc-sa/4.0/88x31.png\" /></a><br />This work is licensed under a <a rel=\"license\" href=\"http://creativecommons.org/licenses/by-nc-sa/4.0/\">Creative Commons Attribution-NonCommercial-ShareAlike 4.0 International License</a>."
      ],
      "metadata": {
        "id": "KiBzkJd1vLru"
      }
    },
    {
      "cell_type": "markdown",
      "source": [
        "---"
      ],
      "metadata": {
        "id": "lwY5HD5kveyk"
      }
    },
    {
      "cell_type": "markdown",
      "source": [
        "## Citation\n",
        "\n",
        "Please give a citation to:\n",
        "\n",
        "> Chawuthai, R., & Takeda, H. (2016). Rdf graph visualization by interpreting linked data as knowledge. In Semantic Technology: 5th Joint International Conference, JIST 2015, Yichang, China, November 11-13, 2015, Revised Selected Papers 5 (pp. 23-39). Springer International Publishing."
      ],
      "metadata": {
        "id": "SC5Q4yhR8eDG"
      }
    },
    {
      "cell_type": "markdown",
      "source": [
        "## References\n"
      ],
      "metadata": {
        "id": "Do3NObt1t0fq"
      }
    },
    {
      "cell_type": "markdown",
      "source": [
        "*   **RDFVIZ** : https://github.com/Rathachai/rdfviz\n",
        "*   RDFlib : https://rdflib.readthedocs.io/\n",
        "*   jQuery : https://jquery.com/\n",
        "*   d3js : https://d3js.org/\n"
      ],
      "metadata": {
        "id": "fdICo-TNvUiz"
      }
    },
    {
      "cell_type": "markdown",
      "source": [
        "---"
      ],
      "metadata": {
        "id": "GwQHo0gM8rhV"
      }
    },
    {
      "cell_type": "markdown",
      "source": [
        "## Import Libraries"
      ],
      "metadata": {
        "id": "ejIZvE7Hu_1R"
      }
    },
    {
      "cell_type": "code",
      "source": [
        "# install rdflib\n",
        "\n",
        "!pip install -q rdflib"
      ],
      "metadata": {
        "id": "o4Z3resqwFfQ"
      },
      "execution_count": null,
      "outputs": []
    },
    {
      "cell_type": "code",
      "source": [
        "# import semantic web nessessaries\n",
        "\n",
        "import rdflib\n",
        "from rdflib import URIRef, BNode, Literal\n",
        "from rdflib import Namespace\n",
        "from rdflib.namespace import DC, DCAT, DCTERMS, FOAF, OWL, PROF, RDF, RDFS, SKOS, TIME, XSD"
      ],
      "metadata": {
        "id": "OMo_eYomwWEk"
      },
      "execution_count": null,
      "outputs": []
    },
    {
      "cell_type": "code",
      "execution_count": null,
      "metadata": {
        "id": "gJnuBJeZrPl4"
      },
      "outputs": [],
      "source": [
        "# import anythings for HTML displaying\n",
        "\n",
        "import requests\n",
        "from IPython.core.display import display, HTML"
      ]
    },
    {
      "cell_type": "markdown",
      "source": [
        "## Preparing"
      ],
      "metadata": {
        "id": "DhnUss6lwloQ"
      }
    },
    {
      "cell_type": "code",
      "source": [
        "# Create a Class\n",
        "\n",
        "class RdfViz:\n",
        "  def __init__(self, height=400, width=800, viz_template_url='https://rathachai.github.io/rdfviz/src/rdfd3-colab-v1.txt'):\n",
        "\n",
        "    #set param\n",
        "    self.height = str(height)\n",
        "    self.width = str(width)\n",
        "\n",
        "    # download rdfviz template from the github\n",
        "    # rdf_viz_template_url = 'https://rathachai.github.io/rdfviz/src/rdfd3-colab-v1.txt' ### Default\n",
        "    self.rdf_viz_template_text = requests.get(viz_template_url).text\n",
        "\n",
        "  def display(self, graph):\n",
        "\n",
        "    # check if rdfgraph --> convert to list\n",
        "    gtype = type(graph)\n",
        "    if gtype== rdflib.graph.Graph:\n",
        "      graph = self.convert_rdf_to_list(graph)\n",
        "      gtype = type(graph)\n",
        "\n",
        "    # check if list --> convert to str\n",
        "    if gtype==list:\n",
        "      graph = self.convert_list_to_str(graph)\n",
        "      gtype = type(graph)\n",
        "\n",
        "    # check if str --> display\n",
        "    if gtype==str:\n",
        "      gviz = self.rdf_viz_template_text.replace('${TRIPLES}', graph).replace('${WIDTH}', str(self.width)).replace('${HEIGHT}', str(self.height))\n",
        "      display(HTML(gviz))\n",
        "\n",
        "  def convert_rdf_to_list(self, rdf_graph):\n",
        "    # graph --> list\n",
        "    return [(str(s), str(p), str(o)) for s, p, o in rdf_graph]\n",
        "\n",
        "  def convert_list_to_str(self, triples_list):\n",
        "    # list --> str\n",
        "    return str([list(triple) for triple in triples_list])\n",
        "\n",
        "\n"
      ],
      "metadata": {
        "id": "pBB-MS_QG2xi"
      },
      "execution_count": null,
      "outputs": []
    },
    {
      "cell_type": "code",
      "source": [
        "# Create an Object of RdfViz\n",
        "\n",
        "gv = RdfViz()"
      ],
      "metadata": {
        "id": "BdH7lcfkYyfu"
      },
      "execution_count": null,
      "outputs": []
    },
    {
      "cell_type": "markdown",
      "source": [
        "---"
      ],
      "metadata": {
        "id": "_5PnJFgo2ByS"
      }
    },
    {
      "cell_type": "markdown",
      "source": [
        "## Usecase 1: RDF graph from the List of Tuples"
      ],
      "metadata": {
        "id": "msdTFHfew5L0"
      }
    },
    {
      "cell_type": "code",
      "source": [
        "# RDF Graph from the list of tuples\n",
        "\n",
        "triples_list =  [\n",
        "    (\"ex:Thailand\", \"ex:hasFood\", \"ex:TomYumKung\"),\n",
        "    (\"ex:TomYumKung\", \"ex:isFoodOf\", \"ex:Thailand\"),\n",
        "    (\"ex:TomYumKung\", \"rdf:type\", \t\"ex:SpicyFood\"),\n",
        "    (\"ex:TomYumKung\", \"ex:includes\", \"ex:shrimp\"),\n",
        "    (\"ex:TomYumKung\", \"ex:includes\", \"ex:chilly\"),\n",
        "    (\"ex:TomYumKung\", \"ex:requires\", \"ex:chilly\"),\n",
        "    (\"ex:TomYumKung\", \"ex:hasSpicy\", \"ex:chilly\"),\n",
        "    (\"ex:TomYumKung\", \"ex:includes\", \"ex:lime\"),\n",
        "    (\"ex:lime\", \"ex:hasTaste\", \"ex:sour\"),\n",
        "    (\"ex:lime\", \"rdf:type\", \"ex:Vegetable\"),\n",
        "    (\"ex:lime\", \"ex:popularIn\", \"ex:Thailand\"),\n",
        "    (\"ex:SpicyFood\", \"ex:popularIn\", \"ex:Thailand\"),\n",
        "    (\"ex:shrimp\", \"rdf:type\", \"ex:Animal\"),\n",
        "    (\"ex:chilly\", \"ex:hasTaste\", \"ex:spicy\"),\n",
        "    (\"ex:chilly\", \"rdf:type\", \"ex:Vegetable\")\n",
        "  ]\n",
        "\n"
      ],
      "metadata": {
        "id": "M21WNiq8sGfB"
      },
      "execution_count": null,
      "outputs": []
    },
    {
      "cell_type": "code",
      "source": [
        "# display graph\n",
        "\n",
        "gv.display(triples_list)"
      ],
      "metadata": {
        "colab": {
          "base_uri": "https://localhost:8080/",
          "height": 421
        },
        "id": "hrXHSpARtEwn",
        "outputId": "2af551af-bd92-4072-9c82-940209e36bc6"
      },
      "execution_count": null,
      "outputs": [
        {
          "output_type": "display_data",
          "data": {
            "text/plain": [
              "<IPython.core.display.HTML object>"
            ],
            "text/html": [
              "<style type=\"text/css\">\n",
              "\t\t.node {\n",
              "\t\t  stroke: #fff;\n",
              "\t\t  fill:#ddd;\n",
              "\t\t  stroke-width: 1.5px;\n",
              "\t\t}\n",
              "\n",
              "\t\t.link {\n",
              "\t\t  fill: none;\n",
              "\t\t  stroke: #999;\n",
              "\t\t  stroke-opacity: .6;\n",
              "\t\t  stroke-width: 1px;\n",
              "\t\t}\n",
              "\n",
              "\t\tmarker {\n",
              "\t\t\tstroke: #999;\n",
              "\t\t\tfill:rgba(124,240,10,0);\n",
              "\t\t}\n",
              "\n",
              "\t\t.node-text {\n",
              "\t\t  font: 11px sans-serif;\n",
              "\t\t  fill:black;\n",
              "\t\t}\n",
              "\n",
              "\t\t.link-text {\n",
              "\t\t  font: 9px sans-serif;\n",
              "\t\t  fill:grey;\n",
              "\t\t}\n",
              "\n",
              "\t\tsvg{\n",
              "\t\t\tborder:0px solid black;\n",
              "\t\t}\n",
              "\t</style>\n",
              "\n",
              "  <script src=\"https://ajax.googleapis.com/ajax/libs/jquery/2.1.3/jquery.min.js\"></script>\n",
              "\t<script src=\"https://d3js.org/d3.v3.min.js\"></script>\n",
              "\t<script>\n",
              "\t\tfunction filterNodesById(nodes,id){\n",
              "\t\t\treturn nodes.filter(function(n) { return n.id === id; });\n",
              "\t\t}\n",
              "\n",
              "\t\tfunction filterNodesByType(nodes,value){\n",
              "\t\t\treturn nodes.filter(function(n) { return n.type === value; });\n",
              "\t\t}\n",
              "\n",
              "\t\tfunction triplesToGraph(triples){\n",
              "\n",
              "\t\t\tsvg.html(\"\");\n",
              "\t\t\t//Graph\n",
              "\t\t\tvar graph={nodes:[], links:[], triples:[]};\n",
              "\n",
              "\t\t\t//Initial Graph from triples\n",
              "\t\t\ttriples.forEach(function(triple){\n",
              "        if (triple.length >= 3){\n",
              "          var subjId = triple[0];\n",
              "          var predId = triple[1];\n",
              "          var objId = triple[2];\n",
              "\n",
              "          var subjNode = filterNodesById(graph.nodes, subjId)[0];\n",
              "          var objNode  = filterNodesById(graph.nodes, objId)[0];\n",
              "\n",
              "          if(subjNode==null){\n",
              "            subjNode = {id:subjId, label:subjId, weight:1, type:\"node\"};\n",
              "            graph.nodes.push(subjNode);\n",
              "          }\n",
              "\n",
              "          if(objNode==null){\n",
              "            objNode = {id:objId, label:objId, weight:1, type:\"node\"};\n",
              "            graph.nodes.push(objNode);\n",
              "          }\n",
              "\n",
              "          var predNode = {id:predId, label:predId, weight:1, type:\"pred\"} ;\n",
              "          graph.nodes.push(predNode);\n",
              "\n",
              "          var blankLabel = \"\";\n",
              "\n",
              "          graph.links.push({source:subjNode, target:predNode, predicate:blankLabel, weight:1});\n",
              "          graph.links.push({source:predNode, target:objNode, predicate:blankLabel, weight:1});\n",
              "\n",
              "          graph.triples.push({s:subjNode, p:predNode, o:objNode});\n",
              "        }\n",
              "\t\t\t});\n",
              "\n",
              "\t\t\treturn graph;\n",
              "\t\t}\n",
              "\n",
              "\n",
              "\t\tfunction update(){\n",
              "\t\t\t// ==================== Add Marker ====================\n",
              "\t\t\tsvg.append(\"svg:defs\").selectAll(\"marker\")\n",
              "\t\t\t    .data([\"end\"])\n",
              "\t\t\t  .enter().append(\"svg:marker\")\n",
              "\t\t\t    .attr(\"id\", String)\n",
              "\t\t\t    .attr(\"viewBox\", \"0 -5 10 10\")\n",
              "\t\t\t    .attr(\"refX\", 30)\n",
              "\t\t\t    .attr(\"refY\", -0.5)\n",
              "\t\t\t    .attr(\"markerWidth\", 6)\n",
              "\t\t\t    .attr(\"markerHeight\", 6)\n",
              "\t\t\t    .attr(\"orient\", \"auto\")\n",
              "\t\t\t  .append(\"svg:polyline\")\n",
              "\t\t\t    .attr(\"points\", \"0,-5 10,0 0,5\")\n",
              "\t\t\t    ;\n",
              "\n",
              "\t\t\t// ==================== Add Links ====================\n",
              "\t\t\t var links = svg.selectAll(\".link\")\n",
              "\t\t\t\t\t\t\t\t.data(graph.triples)\n",
              "\t\t\t\t\t\t\t\t.enter()\n",
              "\t\t\t\t\t\t\t\t.append(\"path\")\n",
              "\t\t\t\t\t\t\t\t\t.attr(\"marker-end\", \"url(#end)\")\n",
              "\t\t\t\t\t\t\t\t\t.attr(\"class\", \"link\")\n",
              "\t\t\t\t\t\t\t;\n",
              "\n",
              "\t\t\t// ==================== Add Link Names =====================\n",
              "\t\t\tvar linkTexts = svg.selectAll(\".link-text\")\n",
              "\t\t                .data(graph.triples)\n",
              "\t\t                .enter()\n",
              "\t\t                .append(\"text\")\n",
              "\t\t\t\t\t\t\t.attr(\"class\", \"link-text\")\n",
              "\t\t\t\t\t\t\t.text( function (d) { return d.p.label; })\n",
              "\t\t\t\t\t\t;\n",
              "\n",
              "\t\t\t\t//linkTexts.append(\"title\")\n",
              "\t\t\t\t//\t\t.text(function(d) { return d.predicate; });\n",
              "\n",
              "\t\t\t// ==================== Add Link Names =====================\n",
              "\t\t\tvar nodeTexts = svg.selectAll(\".node-text\")\n",
              "\t\t                .data(filterNodesByType(graph.nodes, \"node\"))\n",
              "\t\t                .enter()\n",
              "\t\t                .append(\"text\")\n",
              "\t\t\t\t\t\t\t.attr(\"class\", \"node-text\")\n",
              "\t\t\t\t\t\t\t.text( function (d) { return d.label; })\n",
              "\t\t\t\t\t\t;\n",
              "\n",
              "\t\t\t\t//nodeTexts.append(\"title\")\n",
              "\t\t\t\t//\t\t.text(function(d) { return d.label; });\n",
              "\n",
              "\t\t\t// ==================== Add Node =====================\n",
              "\t\t\tvar nodes = svg.selectAll(\".node\")\n",
              "\t\t\t\t\t\t\t\t.data(filterNodesByType(graph.nodes, \"node\"))\n",
              "\t\t\t\t\t\t\t\t.enter()\n",
              "\t\t\t\t\t\t\t\t.append(\"circle\")\n",
              "\t\t\t\t\t\t\t\t\t.attr(\"class\", \"node\")\n",
              "\t\t\t\t\t\t\t\t\t.attr(\"r\",8)\n",
              "\t\t\t\t\t\t\t\t\t.call(force.drag)\n",
              "\t\t\t\t\t\t\t;//nodes\n",
              "\n",
              "\t\t\t// ==================== Force ====================\n",
              "\t\t\tforce.on(\"tick\", function() {\n",
              "\t\t\t\tnodes\n",
              "\t\t\t\t\t.attr(\"cx\", function(d){ return d.x; })\n",
              "\t\t\t\t\t.attr(\"cy\", function(d){ return d.y; })\n",
              "\t\t\t\t\t;\n",
              "\n",
              "\t\t\t\tlinks\n",
              "\t\t\t\t\t.attr(\"d\", function(d) {\n",
              "\t\t\t\t\t\t  return \"M\" \t+ d.s.x + \",\" + d.s.y\n",
              "\t\t\t\t\t\t\t\t\t\t+ \"S\" + d.p.x + \",\" + d.p.y\n",
              "\t\t\t\t\t\t\t\t\t\t+ \" \" + d.o.x + \",\" + d.o.y;\n",
              "\t\t\t\t\t\t})\n",
              "\t\t\t\t\t;\n",
              "\n",
              "\t\t\t\tnodeTexts\n",
              "\t\t\t\t\t.attr(\"x\", function(d) { return d.x + 12 ; })\n",
              "\t\t\t\t\t.attr(\"y\", function(d) { return d.y + 3; })\n",
              "\t\t\t\t\t;\n",
              "\n",
              "\n",
              "\t\t\t\tlinkTexts\n",
              "\t\t\t\t\t.attr(\"x\", function(d) { return 4 + (d.s.x + d.p.x + d.o.x)/3  ; })\n",
              "\t\t\t\t\t.attr(\"y\", function(d) { return 4 + (d.s.y + d.p.y + d.o.y)/3 ; })\n",
              "\t\t\t\t\t;\n",
              "\t\t\t});\n",
              "\n",
              "\t\t\t// ==================== Run ====================\n",
              "\t\t\tforce\n",
              "\t\t      .nodes(graph.nodes)\n",
              "\t\t      .links(graph.links)\n",
              "\t\t\t  .charge(-200)\n",
              "\t\t\t  .linkDistance(50)\n",
              "\t\t      .start()\n",
              "\t\t\t  ;\n",
              "\t\t}\n",
              "\n",
              "\n",
              "\t</script>\n",
              "\n",
              "\n",
              "  <div id=\"svg-body\" class=\"panel-body\"></div>\n",
              "  <script>\n",
              "  \tvar triples = [['ex:Thailand', 'ex:hasFood', 'ex:TomYumKung'], ['ex:TomYumKung', 'ex:isFoodOf', 'ex:Thailand'], ['ex:TomYumKung', 'rdf:type', 'ex:SpicyFood'], ['ex:TomYumKung', 'ex:includes', 'ex:shrimp'], ['ex:TomYumKung', 'ex:includes', 'ex:chilly'], ['ex:TomYumKung', 'ex:requires', 'ex:chilly'], ['ex:TomYumKung', 'ex:hasSpicy', 'ex:chilly'], ['ex:TomYumKung', 'ex:includes', 'ex:lime'], ['ex:lime', 'ex:hasTaste', 'ex:sour'], ['ex:lime', 'rdf:type', 'ex:Vegetable'], ['ex:lime', 'ex:popularIn', 'ex:Thailand'], ['ex:SpicyFood', 'ex:popularIn', 'ex:Thailand'], ['ex:shrimp', 'rdf:type', 'ex:Animal'], ['ex:chilly', 'ex:hasTaste', 'ex:spicy'], ['ex:chilly', 'rdf:type', 'ex:Vegetable']] ;\n",
              "\n",
              "\tvar svg = d3.select(\"#svg-body\").append(\"svg\")\n",
              "\t\t\t\t.attr(\"width\", 800 )\n",
              "\t\t\t\t.attr(\"height\", 400 )\n",
              "\t\t\t\t;\n",
              "\n",
              "\tvar force = d3.layout.force().size([ 800, 400 ]);\n",
              "\n",
              "\tvar graph = triplesToGraph(triples);\n",
              "\n",
              "\tupdate();\n",
              "\n",
              "  </script>\n"
            ]
          },
          "metadata": {}
        }
      ]
    },
    {
      "cell_type": "markdown",
      "source": [
        "![image.png](data:image/png;base64,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)"
      ],
      "metadata": {
        "id": "lIy6jvyH_0G_"
      }
    },
    {
      "cell_type": "markdown",
      "source": [
        "---"
      ],
      "metadata": {
        "id": "eWh6CMaw2AHT"
      }
    },
    {
      "cell_type": "markdown",
      "source": [
        "## Usecase 2: RDF Graph from TTL"
      ],
      "metadata": {
        "id": "6w6Df2R9ydBu"
      }
    },
    {
      "cell_type": "code",
      "source": [
        "# RDF graph in the Turtle format\n",
        "\n",
        "rdf_ttl_text = '''\n",
        "@prefix foaf: <http://xmlns.com/foaf/0.1/> .\n",
        "@prefix pp: <http://example.org/people/> .\n",
        "\n",
        "pp:bob a foaf:Person ;\n",
        "    foaf:knows pp:linda, pp:mark ;\n",
        "    foaf:name \"Bob\" .\n",
        "\n",
        "pp:linda a foaf:Person ;\n",
        "    foaf:name \"Linda\" .\n",
        "\n",
        "pp:mark foaf:name \"Mark\" .\n",
        "'''"
      ],
      "metadata": {
        "id": "3Jaan5xpyiyD"
      },
      "execution_count": null,
      "outputs": []
    },
    {
      "cell_type": "code",
      "source": [
        "# Create a graph object\n",
        "\n",
        "g = rdflib.Graph()\n",
        "g.parse( data=rdf_ttl_text, format='turtle' )"
      ],
      "metadata": {
        "colab": {
          "base_uri": "https://localhost:8080/"
        },
        "id": "6GPc7f4ay4Ty",
        "outputId": "573647b9-c5dc-4f7d-df61-9f167fe9afb6"
      },
      "execution_count": null,
      "outputs": [
        {
          "output_type": "execute_result",
          "data": {
            "text/plain": [
              "<Graph identifier=N1aae3db155b3490c87bca409574dfbc4 (<class 'rdflib.graph.Graph'>)>"
            ]
          },
          "metadata": {},
          "execution_count": 9
        }
      ]
    },
    {
      "cell_type": "code",
      "source": [
        "# display graph\n",
        "\n",
        "gv.display(g)"
      ],
      "metadata": {
        "colab": {
          "base_uri": "https://localhost:8080/",
          "height": 421
        },
        "id": "hfh-lxDTzDry",
        "outputId": "26de4b0e-e5c6-4936-cd43-936a0930a43d"
      },
      "execution_count": null,
      "outputs": [
        {
          "output_type": "display_data",
          "data": {
            "text/plain": [
              "<IPython.core.display.HTML object>"
            ],
            "text/html": [
              "<style type=\"text/css\">\n",
              "\t\t.node {\n",
              "\t\t  stroke: #fff;\n",
              "\t\t  fill:#ddd;\n",
              "\t\t  stroke-width: 1.5px;\n",
              "\t\t}\n",
              "\n",
              "\t\t.link {\n",
              "\t\t  fill: none;\n",
              "\t\t  stroke: #999;\n",
              "\t\t  stroke-opacity: .6;\n",
              "\t\t  stroke-width: 1px;\n",
              "\t\t}\n",
              "\n",
              "\t\tmarker {\n",
              "\t\t\tstroke: #999;\n",
              "\t\t\tfill:rgba(124,240,10,0);\n",
              "\t\t}\n",
              "\n",
              "\t\t.node-text {\n",
              "\t\t  font: 11px sans-serif;\n",
              "\t\t  fill:black;\n",
              "\t\t}\n",
              "\n",
              "\t\t.link-text {\n",
              "\t\t  font: 9px sans-serif;\n",
              "\t\t  fill:grey;\n",
              "\t\t}\n",
              "\n",
              "\t\tsvg{\n",
              "\t\t\tborder:0px solid black;\n",
              "\t\t}\n",
              "\t</style>\n",
              "\n",
              "  <script src=\"https://ajax.googleapis.com/ajax/libs/jquery/2.1.3/jquery.min.js\"></script>\n",
              "\t<script src=\"https://d3js.org/d3.v3.min.js\"></script>\n",
              "\t<script>\n",
              "\t\tfunction filterNodesById(nodes,id){\n",
              "\t\t\treturn nodes.filter(function(n) { return n.id === id; });\n",
              "\t\t}\n",
              "\n",
              "\t\tfunction filterNodesByType(nodes,value){\n",
              "\t\t\treturn nodes.filter(function(n) { return n.type === value; });\n",
              "\t\t}\n",
              "\n",
              "\t\tfunction triplesToGraph(triples){\n",
              "\n",
              "\t\t\tsvg.html(\"\");\n",
              "\t\t\t//Graph\n",
              "\t\t\tvar graph={nodes:[], links:[], triples:[]};\n",
              "\n",
              "\t\t\t//Initial Graph from triples\n",
              "\t\t\ttriples.forEach(function(triple){\n",
              "        if (triple.length >= 3){\n",
              "          var subjId = triple[0];\n",
              "          var predId = triple[1];\n",
              "          var objId = triple[2];\n",
              "\n",
              "          var subjNode = filterNodesById(graph.nodes, subjId)[0];\n",
              "          var objNode  = filterNodesById(graph.nodes, objId)[0];\n",
              "\n",
              "          if(subjNode==null){\n",
              "            subjNode = {id:subjId, label:subjId, weight:1, type:\"node\"};\n",
              "            graph.nodes.push(subjNode);\n",
              "          }\n",
              "\n",
              "          if(objNode==null){\n",
              "            objNode = {id:objId, label:objId, weight:1, type:\"node\"};\n",
              "            graph.nodes.push(objNode);\n",
              "          }\n",
              "\n",
              "          var predNode = {id:predId, label:predId, weight:1, type:\"pred\"} ;\n",
              "          graph.nodes.push(predNode);\n",
              "\n",
              "          var blankLabel = \"\";\n",
              "\n",
              "          graph.links.push({source:subjNode, target:predNode, predicate:blankLabel, weight:1});\n",
              "          graph.links.push({source:predNode, target:objNode, predicate:blankLabel, weight:1});\n",
              "\n",
              "          graph.triples.push({s:subjNode, p:predNode, o:objNode});\n",
              "        }\n",
              "\t\t\t});\n",
              "\n",
              "\t\t\treturn graph;\n",
              "\t\t}\n",
              "\n",
              "\n",
              "\t\tfunction update(){\n",
              "\t\t\t// ==================== Add Marker ====================\n",
              "\t\t\tsvg.append(\"svg:defs\").selectAll(\"marker\")\n",
              "\t\t\t    .data([\"end\"])\n",
              "\t\t\t  .enter().append(\"svg:marker\")\n",
              "\t\t\t    .attr(\"id\", String)\n",
              "\t\t\t    .attr(\"viewBox\", \"0 -5 10 10\")\n",
              "\t\t\t    .attr(\"refX\", 30)\n",
              "\t\t\t    .attr(\"refY\", -0.5)\n",
              "\t\t\t    .attr(\"markerWidth\", 6)\n",
              "\t\t\t    .attr(\"markerHeight\", 6)\n",
              "\t\t\t    .attr(\"orient\", \"auto\")\n",
              "\t\t\t  .append(\"svg:polyline\")\n",
              "\t\t\t    .attr(\"points\", \"0,-5 10,0 0,5\")\n",
              "\t\t\t    ;\n",
              "\n",
              "\t\t\t// ==================== Add Links ====================\n",
              "\t\t\t var links = svg.selectAll(\".link\")\n",
              "\t\t\t\t\t\t\t\t.data(graph.triples)\n",
              "\t\t\t\t\t\t\t\t.enter()\n",
              "\t\t\t\t\t\t\t\t.append(\"path\")\n",
              "\t\t\t\t\t\t\t\t\t.attr(\"marker-end\", \"url(#end)\")\n",
              "\t\t\t\t\t\t\t\t\t.attr(\"class\", \"link\")\n",
              "\t\t\t\t\t\t\t;\n",
              "\n",
              "\t\t\t// ==================== Add Link Names =====================\n",
              "\t\t\tvar linkTexts = svg.selectAll(\".link-text\")\n",
              "\t\t                .data(graph.triples)\n",
              "\t\t                .enter()\n",
              "\t\t                .append(\"text\")\n",
              "\t\t\t\t\t\t\t.attr(\"class\", \"link-text\")\n",
              "\t\t\t\t\t\t\t.text( function (d) { return d.p.label; })\n",
              "\t\t\t\t\t\t;\n",
              "\n",
              "\t\t\t\t//linkTexts.append(\"title\")\n",
              "\t\t\t\t//\t\t.text(function(d) { return d.predicate; });\n",
              "\n",
              "\t\t\t// ==================== Add Link Names =====================\n",
              "\t\t\tvar nodeTexts = svg.selectAll(\".node-text\")\n",
              "\t\t                .data(filterNodesByType(graph.nodes, \"node\"))\n",
              "\t\t                .enter()\n",
              "\t\t                .append(\"text\")\n",
              "\t\t\t\t\t\t\t.attr(\"class\", \"node-text\")\n",
              "\t\t\t\t\t\t\t.text( function (d) { return d.label; })\n",
              "\t\t\t\t\t\t;\n",
              "\n",
              "\t\t\t\t//nodeTexts.append(\"title\")\n",
              "\t\t\t\t//\t\t.text(function(d) { return d.label; });\n",
              "\n",
              "\t\t\t// ==================== Add Node =====================\n",
              "\t\t\tvar nodes = svg.selectAll(\".node\")\n",
              "\t\t\t\t\t\t\t\t.data(filterNodesByType(graph.nodes, \"node\"))\n",
              "\t\t\t\t\t\t\t\t.enter()\n",
              "\t\t\t\t\t\t\t\t.append(\"circle\")\n",
              "\t\t\t\t\t\t\t\t\t.attr(\"class\", \"node\")\n",
              "\t\t\t\t\t\t\t\t\t.attr(\"r\",8)\n",
              "\t\t\t\t\t\t\t\t\t.call(force.drag)\n",
              "\t\t\t\t\t\t\t;//nodes\n",
              "\n",
              "\t\t\t// ==================== Force ====================\n",
              "\t\t\tforce.on(\"tick\", function() {\n",
              "\t\t\t\tnodes\n",
              "\t\t\t\t\t.attr(\"cx\", function(d){ return d.x; })\n",
              "\t\t\t\t\t.attr(\"cy\", function(d){ return d.y; })\n",
              "\t\t\t\t\t;\n",
              "\n",
              "\t\t\t\tlinks\n",
              "\t\t\t\t\t.attr(\"d\", function(d) {\n",
              "\t\t\t\t\t\t  return \"M\" \t+ d.s.x + \",\" + d.s.y\n",
              "\t\t\t\t\t\t\t\t\t\t+ \"S\" + d.p.x + \",\" + d.p.y\n",
              "\t\t\t\t\t\t\t\t\t\t+ \" \" + d.o.x + \",\" + d.o.y;\n",
              "\t\t\t\t\t\t})\n",
              "\t\t\t\t\t;\n",
              "\n",
              "\t\t\t\tnodeTexts\n",
              "\t\t\t\t\t.attr(\"x\", function(d) { return d.x + 12 ; })\n",
              "\t\t\t\t\t.attr(\"y\", function(d) { return d.y + 3; })\n",
              "\t\t\t\t\t;\n",
              "\n",
              "\n",
              "\t\t\t\tlinkTexts\n",
              "\t\t\t\t\t.attr(\"x\", function(d) { return 4 + (d.s.x + d.p.x + d.o.x)/3  ; })\n",
              "\t\t\t\t\t.attr(\"y\", function(d) { return 4 + (d.s.y + d.p.y + d.o.y)/3 ; })\n",
              "\t\t\t\t\t;\n",
              "\t\t\t});\n",
              "\n",
              "\t\t\t// ==================== Run ====================\n",
              "\t\t\tforce\n",
              "\t\t      .nodes(graph.nodes)\n",
              "\t\t      .links(graph.links)\n",
              "\t\t\t  .charge(-200)\n",
              "\t\t\t  .linkDistance(50)\n",
              "\t\t      .start()\n",
              "\t\t\t  ;\n",
              "\t\t}\n",
              "\n",
              "\n",
              "\t</script>\n",
              "\n",
              "\n",
              "  <div id=\"svg-body\" class=\"panel-body\"></div>\n",
              "  <script>\n",
              "  \tvar triples = [['http://example.org/people/bob', 'http://www.w3.org/1999/02/22-rdf-syntax-ns#type', 'http://xmlns.com/foaf/0.1/Person'], ['http://example.org/people/bob', 'http://xmlns.com/foaf/0.1/name', 'Bob'], ['http://example.org/people/bob', 'http://xmlns.com/foaf/0.1/knows', 'http://example.org/people/linda'], ['http://example.org/people/mark', 'http://xmlns.com/foaf/0.1/name', 'Mark'], ['http://example.org/people/bob', 'http://xmlns.com/foaf/0.1/knows', 'http://example.org/people/mark'], ['http://example.org/people/linda', 'http://www.w3.org/1999/02/22-rdf-syntax-ns#type', 'http://xmlns.com/foaf/0.1/Person'], ['http://example.org/people/linda', 'http://xmlns.com/foaf/0.1/name', 'Linda']] ;\n",
              "\n",
              "\tvar svg = d3.select(\"#svg-body\").append(\"svg\")\n",
              "\t\t\t\t.attr(\"width\", 800 )\n",
              "\t\t\t\t.attr(\"height\", 400 )\n",
              "\t\t\t\t;\n",
              "\n",
              "\tvar force = d3.layout.force().size([ 800, 400 ]);\n",
              "\n",
              "\tvar graph = triplesToGraph(triples);\n",
              "\n",
              "\tupdate();\n",
              "\n",
              "  </script>\n"
            ]
          },
          "metadata": {}
        }
      ]
    },
    {
      "cell_type": "markdown",
      "source": [
        "---"
      ],
      "metadata": {
        "id": "DhGN5n7m18y9"
      }
    },
    {
      "cell_type": "markdown",
      "source": [
        "## Usecase 3: RDF Graph from LOD"
      ],
      "metadata": {
        "id": "esPFqsht1_IR"
      }
    },
    {
      "cell_type": "code",
      "source": [
        "g = rdflib.Graph()\n",
        "g.parse('http://www.w3.org/People/Berners-Lee/card')"
      ],
      "metadata": {
        "colab": {
          "base_uri": "https://localhost:8080/"
        },
        "id": "l0tiftaj1-UR",
        "outputId": "51c2a111-c75e-406d-9972-68e2915771a2"
      },
      "execution_count": null,
      "outputs": [
        {
          "output_type": "execute_result",
          "data": {
            "text/plain": [
              "<Graph identifier=Nf30647b922464d9eb310adbacbbbb45b (<class 'rdflib.graph.Graph'>)>"
            ]
          },
          "metadata": {},
          "execution_count": 11
        }
      ]
    },
    {
      "cell_type": "code",
      "source": [
        "# display graph\n",
        "\n",
        "gv.width = 1000\n",
        "gv.height = 800\n",
        "\n",
        "gv.display(g)"
      ],
      "metadata": {
        "colab": {
          "base_uri": "https://localhost:8080/",
          "height": 821
        },
        "id": "wH4EMouy2_MO",
        "outputId": "70a703da-b2d1-4c8e-b1f7-23c88b91a514"
      },
      "execution_count": null,
      "outputs": [
        {
          "output_type": "display_data",
          "data": {
            "text/plain": [
              "<IPython.core.display.HTML object>"
            ],
            "text/html": [
              "<style type=\"text/css\">\n",
              "\t\t.node {\n",
              "\t\t  stroke: #fff;\n",
              "\t\t  fill:#ddd;\n",
              "\t\t  stroke-width: 1.5px;\n",
              "\t\t}\n",
              "\n",
              "\t\t.link {\n",
              "\t\t  fill: none;\n",
              "\t\t  stroke: #999;\n",
              "\t\t  stroke-opacity: .6;\n",
              "\t\t  stroke-width: 1px;\n",
              "\t\t}\n",
              "\n",
              "\t\tmarker {\n",
              "\t\t\tstroke: #999;\n",
              "\t\t\tfill:rgba(124,240,10,0);\n",
              "\t\t}\n",
              "\n",
              "\t\t.node-text {\n",
              "\t\t  font: 11px sans-serif;\n",
              "\t\t  fill:black;\n",
              "\t\t}\n",
              "\n",
              "\t\t.link-text {\n",
              "\t\t  font: 9px sans-serif;\n",
              "\t\t  fill:grey;\n",
              "\t\t}\n",
              "\n",
              "\t\tsvg{\n",
              "\t\t\tborder:0px solid black;\n",
              "\t\t}\n",
              "\t</style>\n",
              "\n",
              "  <script src=\"https://ajax.googleapis.com/ajax/libs/jquery/2.1.3/jquery.min.js\"></script>\n",
              "\t<script src=\"https://d3js.org/d3.v3.min.js\"></script>\n",
              "\t<script>\n",
              "\t\tfunction filterNodesById(nodes,id){\n",
              "\t\t\treturn nodes.filter(function(n) { return n.id === id; });\n",
              "\t\t}\n",
              "\n",
              "\t\tfunction filterNodesByType(nodes,value){\n",
              "\t\t\treturn nodes.filter(function(n) { return n.type === value; });\n",
              "\t\t}\n",
              "\n",
              "\t\tfunction triplesToGraph(triples){\n",
              "\n",
              "\t\t\tsvg.html(\"\");\n",
              "\t\t\t//Graph\n",
              "\t\t\tvar graph={nodes:[], links:[], triples:[]};\n",
              "\n",
              "\t\t\t//Initial Graph from triples\n",
              "\t\t\ttriples.forEach(function(triple){\n",
              "        if (triple.length >= 3){\n",
              "          var subjId = triple[0];\n",
              "          var predId = triple[1];\n",
              "          var objId = triple[2];\n",
              "\n",
              "          var subjNode = filterNodesById(graph.nodes, subjId)[0];\n",
              "          var objNode  = filterNodesById(graph.nodes, objId)[0];\n",
              "\n",
              "          if(subjNode==null){\n",
              "            subjNode = {id:subjId, label:subjId, weight:1, type:\"node\"};\n",
              "            graph.nodes.push(subjNode);\n",
              "          }\n",
              "\n",
              "          if(objNode==null){\n",
              "            objNode = {id:objId, label:objId, weight:1, type:\"node\"};\n",
              "            graph.nodes.push(objNode);\n",
              "          }\n",
              "\n",
              "          var predNode = {id:predId, label:predId, weight:1, type:\"pred\"} ;\n",
              "          graph.nodes.push(predNode);\n",
              "\n",
              "          var blankLabel = \"\";\n",
              "\n",
              "          graph.links.push({source:subjNode, target:predNode, predicate:blankLabel, weight:1});\n",
              "          graph.links.push({source:predNode, target:objNode, predicate:blankLabel, weight:1});\n",
              "\n",
              "          graph.triples.push({s:subjNode, p:predNode, o:objNode});\n",
              "        }\n",
              "\t\t\t});\n",
              "\n",
              "\t\t\treturn graph;\n",
              "\t\t}\n",
              "\n",
              "\n",
              "\t\tfunction update(){\n",
              "\t\t\t// ==================== Add Marker ====================\n",
              "\t\t\tsvg.append(\"svg:defs\").selectAll(\"marker\")\n",
              "\t\t\t    .data([\"end\"])\n",
              "\t\t\t  .enter().append(\"svg:marker\")\n",
              "\t\t\t    .attr(\"id\", String)\n",
              "\t\t\t    .attr(\"viewBox\", \"0 -5 10 10\")\n",
              "\t\t\t    .attr(\"refX\", 30)\n",
              "\t\t\t    .attr(\"refY\", -0.5)\n",
              "\t\t\t    .attr(\"markerWidth\", 6)\n",
              "\t\t\t    .attr(\"markerHeight\", 6)\n",
              "\t\t\t    .attr(\"orient\", \"auto\")\n",
              "\t\t\t  .append(\"svg:polyline\")\n",
              "\t\t\t    .attr(\"points\", \"0,-5 10,0 0,5\")\n",
              "\t\t\t    ;\n",
              "\n",
              "\t\t\t// ==================== Add Links ====================\n",
              "\t\t\t var links = svg.selectAll(\".link\")\n",
              "\t\t\t\t\t\t\t\t.data(graph.triples)\n",
              "\t\t\t\t\t\t\t\t.enter()\n",
              "\t\t\t\t\t\t\t\t.append(\"path\")\n",
              "\t\t\t\t\t\t\t\t\t.attr(\"marker-end\", \"url(#end)\")\n",
              "\t\t\t\t\t\t\t\t\t.attr(\"class\", \"link\")\n",
              "\t\t\t\t\t\t\t;\n",
              "\n",
              "\t\t\t// ==================== Add Link Names =====================\n",
              "\t\t\tvar linkTexts = svg.selectAll(\".link-text\")\n",
              "\t\t                .data(graph.triples)\n",
              "\t\t                .enter()\n",
              "\t\t                .append(\"text\")\n",
              "\t\t\t\t\t\t\t.attr(\"class\", \"link-text\")\n",
              "\t\t\t\t\t\t\t.text( function (d) { return d.p.label; })\n",
              "\t\t\t\t\t\t;\n",
              "\n",
              "\t\t\t\t//linkTexts.append(\"title\")\n",
              "\t\t\t\t//\t\t.text(function(d) { return d.predicate; });\n",
              "\n",
              "\t\t\t// ==================== Add Link Names =====================\n",
              "\t\t\tvar nodeTexts = svg.selectAll(\".node-text\")\n",
              "\t\t                .data(filterNodesByType(graph.nodes, \"node\"))\n",
              "\t\t                .enter()\n",
              "\t\t                .append(\"text\")\n",
              "\t\t\t\t\t\t\t.attr(\"class\", \"node-text\")\n",
              "\t\t\t\t\t\t\t.text( function (d) { return d.label; })\n",
              "\t\t\t\t\t\t;\n",
              "\n",
              "\t\t\t\t//nodeTexts.append(\"title\")\n",
              "\t\t\t\t//\t\t.text(function(d) { return d.label; });\n",
              "\n",
              "\t\t\t// ==================== Add Node =====================\n",
              "\t\t\tvar nodes = svg.selectAll(\".node\")\n",
              "\t\t\t\t\t\t\t\t.data(filterNodesByType(graph.nodes, \"node\"))\n",
              "\t\t\t\t\t\t\t\t.enter()\n",
              "\t\t\t\t\t\t\t\t.append(\"circle\")\n",
              "\t\t\t\t\t\t\t\t\t.attr(\"class\", \"node\")\n",
              "\t\t\t\t\t\t\t\t\t.attr(\"r\",8)\n",
              "\t\t\t\t\t\t\t\t\t.call(force.drag)\n",
              "\t\t\t\t\t\t\t;//nodes\n",
              "\n",
              "\t\t\t// ==================== Force ====================\n",
              "\t\t\tforce.on(\"tick\", function() {\n",
              "\t\t\t\tnodes\n",
              "\t\t\t\t\t.attr(\"cx\", function(d){ return d.x; })\n",
              "\t\t\t\t\t.attr(\"cy\", function(d){ return d.y; })\n",
              "\t\t\t\t\t;\n",
              "\n",
              "\t\t\t\tlinks\n",
              "\t\t\t\t\t.attr(\"d\", function(d) {\n",
              "\t\t\t\t\t\t  return \"M\" \t+ d.s.x + \",\" + d.s.y\n",
              "\t\t\t\t\t\t\t\t\t\t+ \"S\" + d.p.x + \",\" + d.p.y\n",
              "\t\t\t\t\t\t\t\t\t\t+ \" \" + d.o.x + \",\" + d.o.y;\n",
              "\t\t\t\t\t\t})\n",
              "\t\t\t\t\t;\n",
              "\n",
              "\t\t\t\tnodeTexts\n",
              "\t\t\t\t\t.attr(\"x\", function(d) { return d.x + 12 ; })\n",
              "\t\t\t\t\t.attr(\"y\", function(d) { return d.y + 3; })\n",
              "\t\t\t\t\t;\n",
              "\n",
              "\n",
              "\t\t\t\tlinkTexts\n",
              "\t\t\t\t\t.attr(\"x\", function(d) { return 4 + (d.s.x + d.p.x + d.o.x)/3  ; })\n",
              "\t\t\t\t\t.attr(\"y\", function(d) { return 4 + (d.s.y + d.p.y + d.o.y)/3 ; })\n",
              "\t\t\t\t\t;\n",
              "\t\t\t});\n",
              "\n",
              "\t\t\t// ==================== Run ====================\n",
              "\t\t\tforce\n",
              "\t\t      .nodes(graph.nodes)\n",
              "\t\t      .links(graph.links)\n",
              "\t\t\t  .charge(-200)\n",
              "\t\t\t  .linkDistance(50)\n",
              "\t\t      .start()\n",
              "\t\t\t  ;\n",
              "\t\t}\n",
              "\n",
              "\n",
              "\t</script>\n",
              "\n",
              "\n",
              "  <div id=\"svg-body\" class=\"panel-body\"></div>\n",
              "  <script>\n",
              "  \tvar triples = [['n7e7aed28614f481aa7a6ad0a06d9d652b3', 'http://www.w3.org/2000/10/swap/pim/contact#street', '32 Vassar Street'], ['https://www.w3.org/People/Berners-Lee/card#i', 'http://www.w3.org/ns/solid/terms#publicTypeIndex', 'https://timbl.com/timbl/Public/PublicTypeIndex.ttl'], ['https://www.w3.org/People/Berners-Lee/card#i', 'http://www.w3.org/2006/vcard/ns#hasAddress', 'n7e7aed28614f481aa7a6ad0a06d9d652b5'], ['https://www.w3.org/People/Berners-Lee/card#i', 'http://www.w3.org/ns/pim/space#storage', 'https://timbl.com/timbl/Public/'], ['http://www.w3.org/2011/Talks/0331-hyderabad-tbl/data#talk', 'http://xmlns.com/foaf/0.1/maker', 'https://www.w3.org/People/Berners-Lee/card#i'], ['https://www.w3.org/People/Berners-Lee/card', 'http://creativecommons.org/ns#license', 'http://creativecommons.org/licenses/by-nc/3.0/'], ['https://www.w3.org/People/Berners-Lee/card#i', 'http://www.w3.org/1999/02/22-rdf-syntax-ns#type', 'http://www.w3.org/2000/10/swap/pim/contact#Male'], ['n7e7aed28614f481aa7a6ad0a06d9d652b6', 'http://www.w3.org/2003/01/geo/wgs84_pos#lat', '42.361860'], ['https://www.w3.org/People/Berners-Lee/card#i', 'http://www.w3.org/2006/vcard/ns#fn', 'Tim Berners-Lee'], ['https://www.w3.org/People/Berners-Lee/card#i', 'http://xmlns.com/foaf/0.1/based_near', 'n7e7aed28614f481aa7a6ad0a06d9d652b6'], ['http://www.w3.org/2011/Talks/0331-hyderabad-tbl/data#talk', 'http://purl.org/dc/terms/title', 'Designing the Web for an Open Society'], ['n7e7aed28614f481aa7a6ad0a06d9d652b1', 'http://www.w3.org/ns/auth/cert#modulus', 'ebe99c737bd3670239600547e5e2eb1d1497da39947b6576c3c44ffeca32cf0f2f7cbee3c47001278a90fc7fc5bcf292f741eb1fcd6bbe7f90650afb519cf13e81b2bffc6e02063ee5a55781d420b1dfaf61c15758480e66d47fb0dcb5fa7b9f7f1052e5ccbd01beee9553c3b6b51f4daf1fce991294cd09a3d1d636bc6c7656e4455d0aff06daec740ed0084aa6866fcae1359de61cc12dbe37c8fa42e977c6e727a8258bb9a3f265b27e3766fe0697f6aa0bcc81c3f026e387bd7bbc81580dc1853af2daa099186a9f59da526474ef6ec0a3d84cf400be3261b6b649dea1f78184862d34d685d2d587f09acc14cd8e578fdd2283387821296f0af39b8d8845'], ['n7e7aed28614f481aa7a6ad0a06d9d652b4', 'http://www.w3.org/2003/01/geo/wgs84_pos#lat', '42.361860'], ['https://timbl.com/timbl/Public/friends.ttl', 'http://www.w3.org/1999/02/22-rdf-syntax-ns#type', 'http://xmlns.com/foaf/0.1/PersonalProfileDocument'], ['n7e7aed28614f481aa7a6ad0a06d9d652b4', 'http://www.w3.org/2003/01/geo/wgs84_pos#long', '-71.091840'], ['https://www.w3.org/People/Berners-Lee/card#i', 'http://xmlns.com/foaf/0.1/mbox_sha1sum', '965c47c5a70db7407210cef6e4e6f5374a525c5c'], ['http://dig.csail.mit.edu/breadcrumbs/blog/4', 'http://purl.org/dc/elements/1.1/title', \"timbl's blog on DIG\"], ['https://www.w3.org/People/Berners-Lee/card#i', 'http://xmlns.com/foaf/0.1/name', 'Timothy Berners-Lee'], ['https://timbl.com/timbl/Public/friends.ttl', 'http://creativecommons.org/ns#license', 'http://creativecommons.org/licenses/by-nc/3.0/'], ['https://www.w3.org/People/Berners-Lee/card#i', 'http://www.w3.org/1999/02/22-rdf-syntax-ns#type', 'http://xmlns.com/foaf/0.1/Person'], ['https://www.w3.org/People/Berners-Lee/card#i', 'http://www.w3.org/2000/01/rdf-schema#seeAlso', 'https://timbl.com/timbl/Public/friends.ttl'], ['n7e7aed28614f481aa7a6ad0a06d9d652b1', 'http://www.w3.org/ns/auth/cert#exponent', '65537'], ['http://dig.csail.mit.edu/2005/ajar/ajaw/data#Tabulator', 'http://usefulinc.com/ns/doap#developer', 'https://www.w3.org/People/Berners-Lee/card#i'], ['https://www.w3.org/People/Berners-Lee/card#i', 'http://xmlns.com/foaf/0.1/mbox', 'mailto:timbl@w3.org'], ['n7e7aed28614f481aa7a6ad0a06d9d652b2', 'http://www.w3.org/2003/01/geo/wgs84_pos#location', 'n7e7aed28614f481aa7a6ad0a06d9d652b4'], ['http://www.w3.org/2000/10/swap/data#Cwm', 'http://usefulinc.com/ns/doap#developer', 'https://www.w3.org/People/Berners-Lee/card#i'], ['https://www.w3.org/People/Berners-Lee/card#i', 'http://www.w3.org/ns/solid/terms#profileBackgroundColor', '#ffffff'], ['https://www.w3.org/DesignIssues/Overview.html', 'http://xmlns.com/foaf/0.1/maker', 'https://www.w3.org/People/Berners-Lee/card#i'], ['http://dig.csail.mit.edu/data#DIG', 'http://xmlns.com/foaf/0.1/member', 'https://www.w3.org/People/Berners-Lee/card#i'], ['n7e7aed28614f481aa7a6ad0a06d9d652b5', 'http://www.w3.org/2006/vcard/ns#street-address', '32 Vassar Street'], ['http://wiki.ontoworld.org/index.php/_IRW2006', 'http://www.w3.org/2000/10/swap/pim/contact#participant', 'https://www.w3.org/People/Berners-Lee/card#i'], ['https://www.w3.org/People/Berners-Lee/card#i', 'http://www.w3.org/2000/10/swap/pim/contact#preferredURI', 'https://www.w3.org/People/Berners-Lee/card#i'], ['https://www.w3.org/People/Berners-Lee/card#i', 'http://www.w3.org/ns/solid/terms#profileHighlightColor', '#00467E'], ['https://www.w3.org/People/Berners-Lee/card#i', 'http://www.w3.org/2000/10/swap/pim/contact#publicHomePage', 'https://www.w3.org/People/Berners-Lee/'], ['https://www.w3.org/People/Berners-Lee/card#i', 'http://xmlns.com/foaf/0.1/family_name', 'Berners-Lee'], ['n7e7aed28614f481aa7a6ad0a06d9d652b3', 'http://www.w3.org/2000/10/swap/pim/contact#postalCode', '02139'], ['https://www.w3.org/People/Berners-Lee/card#i', 'http://www.w3.org/2000/10/swap/pim/contact#homePage', 'https://www.w3.org/People/Berners-Lee/'], ['https://timbl.com/timbl/Public/friends.ttl', 'http://purl.org/dc/elements/1.1/title', \"Tim Berners-Lee's editable profile\"], ['https://www.w3.org/People/Berners-Lee/card', 'http://purl.org/dc/elements/1.1/title', \"Tim Berners-Lee's FOAF file\"], ['https://www.w3.org/People/Berners-Lee/card#i', 'http://xmlns.com/foaf/0.1/nick', 'timbl'], ['https://www.w3.org/People/Berners-Lee/card#i', 'http://xmlns.com/foaf/0.1/account', 'http://twitter.com/timberners_lee'], ['https://www.w3.org/People/Berners-Lee/card#i', 'http://xmlns.com/foaf/0.1/homepage', 'https://www.w3.org/People/Berners-Lee/'], ['http://dig.csail.mit.edu/breadcrumbs/blog/4', 'http://www.w3.org/2000/01/rdf-schema#seeAlso', 'http://dig.csail.mit.edu/breadcrumbs/blog/feed/4'], ['https://www.w3.org/People/Berners-Lee/card', 'http://xmlns.com/foaf/0.1/primaryTopic', 'https://www.w3.org/People/Berners-Lee/card#i'], ['n7e7aed28614f481aa7a6ad0a06d9d652b5', 'http://www.w3.org/1999/02/22-rdf-syntax-ns#type', 'http://www.w3.org/2006/vcard/ns#Work'], ['https://www.w3.org/People/Berners-Lee/card#i', 'http://xmlns.com/foaf/0.1/title', 'Sir'], ['n7e7aed28614f481aa7a6ad0a06d9d652b2', 'http://www.w3.org/2000/10/swap/pim/contact#address', 'n7e7aed28614f481aa7a6ad0a06d9d652b3'], ['n7e7aed28614f481aa7a6ad0a06d9d652b3', 'http://www.w3.org/2000/10/swap/pim/contact#country', 'USA'], ['https://www.w3.org/People/Berners-Lee/card#i', 'http://www.w3.org/ns/ldp#inbox', 'https://timbl.com/timbl/Public/Inbox'], ['https://www.w3.org/People/Berners-Lee/card#i', 'http://www.w3.org/2000/10/swap/pim/contact#assistant', 'https://www.w3.org/People/Berners-Lee/card#amy'], ['https://www.w3.org/People/Berners-Lee/card#i', 'http://xmlns.com/foaf/0.1/givenname', 'Timothy'], ['https://timbl.com/timbl/Public/friends.ttl', 'http://xmlns.com/foaf/0.1/primaryTopic', 'https://www.w3.org/People/Berners-Lee/card#i'], ['n7e7aed28614f481aa7a6ad0a06d9d652b1', 'http://www.w3.org/1999/02/22-rdf-syntax-ns#type', 'http://www.w3.org/ns/auth/cert#RSAPublicKey'], ['https://www.w3.org/People/Berners-Lee/card#i', 'http://www.w3.org/ns/solid/terms#oidcIssuer', 'https://timbl.com'], ['https://www.w3.org/People/Berners-Lee/card#i', 'http://xmlns.com/foaf/0.1/img', 'https://www.w3.org/Press/Stock/Berners-Lee/2001-europaeum-eighth.jpg'], ['https://www.w3.org/People/Berners-Lee/card#i', 'http://xmlns.com/foaf/0.1/openid', 'https://www.w3.org/People/Berners-Lee/'], ['https://www.w3.org/People/Berners-Lee/card', 'http://xmlns.com/foaf/0.1/maker', 'https://www.w3.org/People/Berners-Lee/card#i'], ['https://www.w3.org/People/Berners-Lee/card#i', 'http://schema.org/owns', 'https://timblbot.inrupt.net/profile/card#me'], ['http://dig.csail.mit.edu/breadcrumbs/blog/4', 'http://xmlns.com/foaf/0.1/maker', 'https://www.w3.org/People/Berners-Lee/card#i'], ['https://www.w3.org/People/Berners-Lee/card#i', 'http://xmlns.com/foaf/0.1/nick', 'TimBL'], ['https://www.w3.org/People/Berners-Lee/card#i', 'http://www.w3.org/ns/pim/space#preferencesFile', 'https://timbl.com/timbl/Data/preferences.n3'], ['http://www.ecs.soton.ac.uk/~dt2/dlstuff/www2006_data#panel-panelk01', 'http://www.w3.org/2000/10/swap/pim/contact#participant', 'https://www.w3.org/People/Berners-Lee/card#i'], ['http://dig.csail.mit.edu/2007/01/camp/data#course', 'http://xmlns.com/foaf/0.1/maker', 'https://www.w3.org/People/Berners-Lee/card#i'], ['https://www.w3.org/People/Berners-Lee/card#i', 'http://www.w3.org/ns/pim/space#storage', 'https://timbl.solid.community/'], ['https://www.w3.org/People/Berners-Lee/card#i', 'http://www.w3.org/2000/01/rdf-schema#label', 'Tim Berners-Lee'], ['n7e7aed28614f481aa7a6ad0a06d9d652b6', 'http://www.w3.org/2003/01/geo/wgs84_pos#long', '-71.091840'], ['https://www.w3.org/People/Berners-Lee/card#i', 'http://xmlns.com/foaf/0.1/workplaceHomepage', 'https://www.w3.org/'], ['n7e7aed28614f481aa7a6ad0a06d9d652b5', 'http://www.w3.org/2006/vcard/ns#locality', 'Cambridge'], ['https://www.w3.org/People/Berners-Lee/card#i', 'http://xmlns.com/foaf/0.1/account', 'http://www.reddit.com/user/timbl/'], ['https://www.w3.org/People/Berners-Lee/card#i', 'http://xmlns.com/foaf/0.1/account', 'http://en.wikipedia.org/wiki/User:Timbl'], ['n7e7aed28614f481aa7a6ad0a06d9d652b3', 'http://www.w3.org/2000/10/swap/pim/contact#street2', 'MIT CSAIL Building 32'], ['https://www.w3.org/People/Berners-Lee/card#i', 'http://www.w3.org/ns/pim/space#storage', 'https://timbl.inrupt.net/'], ['http://www.ecs.soton.ac.uk/~dt2/dlstuff/www2006_data#panel-panelk01', 'http://www.w3.org/2000/01/rdf-schema#label', 'The Next Wave of the Web (Plenary Panel)'], ['n7e7aed28614f481aa7a6ad0a06d9d652b3', 'http://www.w3.org/2000/10/swap/pim/contact#city', 'Cambridge'], ['https://timbl.com/timbl/Public/friends.ttl', 'http://xmlns.com/foaf/0.1/maker', 'https://www.w3.org/People/Berners-Lee/card#i'], ['https://www.w3.org/People/Berners-Lee/card#i', 'http://www.w3.org/ns/solid/terms#editableProfile', 'https://timbl.com/timbl/Public/friends.ttl'], ['https://www.w3.org/People/Berners-Lee/card#i', 'http://www.w3.org/ns/auth/cert#key', 'n7e7aed28614f481aa7a6ad0a06d9d652b1'], ['https://www.w3.org/People/Berners-Lee/card#i', 'http://rdfs.org/sioc/ns#avatar', 'https://www.w3.org/People/Berners-Lee/images/timbl-image-by-Coz-cropped.jpg'], ['https://www.w3.org/People/Berners-Lee/card#i', 'http://xmlns.com/foaf/0.1/weblog', 'http://dig.csail.mit.edu/breadcrumbs/blog/4'], ['n7e7aed28614f481aa7a6ad0a06d9d652b5', 'http://www.w3.org/2006/vcard/ns#region', 'MA'], ['http://www.w3.org/data#W3C', 'http://xmlns.com/foaf/0.1/member', 'https://www.w3.org/People/Berners-Lee/card#i'], ['n7e7aed28614f481aa7a6ad0a06d9d652b5', 'http://www.w3.org/2006/vcard/ns#postal-code', '02139'], ['http://wiki.ontoworld.org/index.php/_IRW2006', 'http://purl.org/dc/elements/1.1/title', 'Identity, Reference and the Web workshop 2006'], ['https://www.w3.org/People/Berners-Lee/card', 'http://www.w3.org/1999/02/22-rdf-syntax-ns#type', 'http://xmlns.com/foaf/0.1/PersonalProfileDocument'], ['https://www.w3.org/People/Berners-Lee/card#i', 'http://www.w3.org/2000/10/swap/pim/contact#office', 'n7e7aed28614f481aa7a6ad0a06d9d652b2'], ['https://www.w3.org/DesignIssues/Overview.html', 'http://purl.org/dc/elements/1.1/title', 'Design Issues for the World Wide Web']] ;\n",
              "\n",
              "\tvar svg = d3.select(\"#svg-body\").append(\"svg\")\n",
              "\t\t\t\t.attr(\"width\", 1000 )\n",
              "\t\t\t\t.attr(\"height\", 800 )\n",
              "\t\t\t\t;\n",
              "\n",
              "\tvar force = d3.layout.force().size([ 1000, 800 ]);\n",
              "\n",
              "\tvar graph = triplesToGraph(triples);\n",
              "\n",
              "\tupdate();\n",
              "\n",
              "  </script>\n"
            ]
          },
          "metadata": {}
        }
      ]
    },
    {
      "cell_type": "markdown",
      "source": [
        "---\n",
        "https://rathachai.creatier.pro/\n",
        "\n",
        "## つづく"
      ],
      "metadata": {
        "id": "Mit513FbveGF"
      }
    }
  ]
}