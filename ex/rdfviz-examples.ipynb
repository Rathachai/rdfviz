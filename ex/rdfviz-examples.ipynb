{
  "nbformat": 4,
  "nbformat_minor": 0,
  "metadata": {
    "colab": {
      "provenance": [],
      "authorship_tag": "ABX9TyMpqBpoORjH9R985O3PZeGI",
      "include_colab_link": true
    },
    "kernelspec": {
      "name": "python3",
      "display_name": "Python 3"
    },
    "language_info": {
      "name": "python"
    }
  },
  "cells": [
    {
      "cell_type": "markdown",
      "metadata": {
        "id": "view-in-github",
        "colab_type": "text"
      },
      "source": [
        "<a href=\"https://colab.research.google.com/github/Rathachai/rdfviz/blob/main/ex/rdfviz-examples.ipynb\" target=\"_parent\"><img src=\"https://colab.research.google.com/assets/colab-badge.svg\" alt=\"Open In Colab\"/></a>"
      ]
    },
    {
      "cell_type": "markdown",
      "source": [
        "# **RDF Visualization in Notebook : Examples**\n",
        "> ## *Author* : [Rathachai CHAWUTHAI](https://rathachai.creatier.pro/) , Ph.D\n",
        "> ### *Affiliation* : Computer Engineering, King Mongkut's Institute of Technology Ladkrabang (KMITL)\n",
        "> #### *Updated Date* : 2023-11-16\n",
        "---"
      ],
      "metadata": {
        "id": "Bv40XFBxtsWt"
      }
    },
    {
      "cell_type": "markdown",
      "source": [
        "> <a rel=\"license\" href=\"http://creativecommons.org/licenses/by-nc-sa/4.0/\"><img alt=\"Creative Commons License\" style=\"border-width:0\" src=\"https://i.creativecommons.org/l/by-nc-sa/4.0/88x31.png\" /></a><br />This work is licensed under a <a rel=\"license\" href=\"http://creativecommons.org/licenses/by-nc-sa/4.0/\">Creative Commons Attribution-NonCommercial-ShareAlike 4.0 International License</a>."
      ],
      "metadata": {
        "id": "KiBzkJd1vLru"
      }
    },
    {
      "cell_type": "markdown",
      "source": [
        "---"
      ],
      "metadata": {
        "id": "lwY5HD5kveyk"
      }
    },
    {
      "cell_type": "markdown",
      "source": [
        "## Citation\n",
        "\n",
        "Please give a citation to:\n",
        "\n",
        "> Chawuthai, R., & Takeda, H. (2016). Rdf graph visualization by interpreting linked data as knowledge. In Semantic Technology: 5th Joint International Conference, JIST 2015, Yichang, China, November 11-13, 2015, Revised Selected Papers 5 (pp. 23-39). Springer International Publishing."
      ],
      "metadata": {
        "id": "SC5Q4yhR8eDG"
      }
    },
    {
      "cell_type": "markdown",
      "source": [
        "## References\n"
      ],
      "metadata": {
        "id": "Do3NObt1t0fq"
      }
    },
    {
      "cell_type": "markdown",
      "source": [
        "*   **RDFVIZ** : https://github.com/Rathachai/rdfviz\n",
        "*   RDFlib : https://rdflib.readthedocs.io/\n",
        "*   jQuery : https://jquery.com/\n",
        "*   d3js : https://d3js.org/\n"
      ],
      "metadata": {
        "id": "fdICo-TNvUiz"
      }
    },
    {
      "cell_type": "markdown",
      "source": [
        "---"
      ],
      "metadata": {
        "id": "GwQHo0gM8rhV"
      }
    },
    {
      "cell_type": "markdown",
      "source": [
        "## Import Libraries"
      ],
      "metadata": {
        "id": "ejIZvE7Hu_1R"
      }
    },
    {
      "cell_type": "code",
      "source": [
        "# install rdflib\n",
        "\n",
        "!pip install -q rdflib"
      ],
      "metadata": {
        "id": "o4Z3resqwFfQ"
      },
      "execution_count": 1,
      "outputs": []
    },
    {
      "cell_type": "code",
      "source": [
        "# import semantic web nessessaries\n",
        "\n",
        "import rdflib\n",
        "from rdflib import URIRef, BNode, Literal\n",
        "from rdflib import Namespace\n",
        "from rdflib.namespace import DC, DCAT, DCTERMS, FOAF, OWL, PROF, RDF, RDFS, SKOS, TIME, XSD"
      ],
      "metadata": {
        "id": "OMo_eYomwWEk"
      },
      "execution_count": 2,
      "outputs": []
    },
    {
      "cell_type": "code",
      "execution_count": 3,
      "metadata": {
        "id": "gJnuBJeZrPl4"
      },
      "outputs": [],
      "source": [
        "# import anythings for HTML displaying\n",
        "\n",
        "import requests\n",
        "from IPython.core.display import display, HTML"
      ]
    },
    {
      "cell_type": "markdown",
      "source": [
        "## Preparing Step"
      ],
      "metadata": {
        "id": "DhnUss6lwloQ"
      }
    },
    {
      "cell_type": "code",
      "source": [
        "# download rdfviz template from the github\n",
        "\n",
        "rdf_viz_template_url = 'https://rathachai.github.io/rdfviz/src/rdfd3-colab-v1.txt'\n",
        "rdf_viz_template_text = requests.get(rdf_viz_template_url).text"
      ],
      "metadata": {
        "id": "D94mTOZdrd2K"
      },
      "execution_count": 4,
      "outputs": []
    },
    {
      "cell_type": "code",
      "source": [
        "# create a function for generating an RDF graph\n",
        "\n",
        "def generage_rdf_viz(triples, width=800, height=500):\n",
        "  gviz = rdf_viz_template_text.replace('${TRIPLES}', triples).replace('${WIDTH}', str(width)).replace('${HEIGHT}', str(height))\n",
        "  display(HTML(gviz))"
      ],
      "metadata": {
        "id": "YSAkYAP9sfex"
      },
      "execution_count": 5,
      "outputs": []
    },
    {
      "cell_type": "markdown",
      "source": [
        "---"
      ],
      "metadata": {
        "id": "_5PnJFgo2ByS"
      }
    },
    {
      "cell_type": "markdown",
      "source": [
        "## Usecase 1: RDF graph from the List of Tuples"
      ],
      "metadata": {
        "id": "msdTFHfew5L0"
      }
    },
    {
      "cell_type": "code",
      "source": [
        "# RDF Graph from the list of tuples\n",
        "\n",
        "triples_list =  [\n",
        "    (\"ex:Thailand\", \"ex:hasFood\", \"ex:TomYumKung\"),\n",
        "    (\"ex:TomYumKung\", \"ex:isFoodOf\", \"ex:Thailand\"),\n",
        "    (\"ex:TomYumKung\", \"rdf:type\", \t\"ex:SpicyFood\"),\n",
        "    (\"ex:TomYumKung\", \"ex:includes\", \"ex:shrimp\"),\n",
        "    (\"ex:TomYumKung\", \"ex:includes\", \"ex:chilly\"),\n",
        "    (\"ex:TomYumKung\", \"ex:requires\", \"ex:chilly\"),\n",
        "    (\"ex:TomYumKung\", \"ex:hasSpicy\", \"ex:chilly\"),\n",
        "    (\"ex:TomYumKung\", \"ex:includes\", \"ex:lime\"),\n",
        "    (\"ex:lime\", \"ex:hasTaste\", \"ex:sour\"),\n",
        "    (\"ex:lime\", \"rdf:type\", \"ex:Vegetable\"),\n",
        "    (\"ex:lime\", \"ex:popularIn\", \"ex:Thailand\"),\n",
        "    (\"ex:SpicyFood\", \"ex:popularIn\", \"ex:Thailand\"),\n",
        "    (\"ex:shrimp\", \"rdf:type\", \"ex:Animal\"),\n",
        "    (\"ex:chilly\", \"ex:hasTaste\", \"ex:spicy\"),\n",
        "    (\"ex:chilly\", \"rdf:type\", \"ex:Vegetable\")\n",
        "  ]\n",
        "\n"
      ],
      "metadata": {
        "id": "M21WNiq8sGfB"
      },
      "execution_count": 6,
      "outputs": []
    },
    {
      "cell_type": "code",
      "source": [
        "# Create a string from the list\n",
        "\n",
        "rdf_js_str = str([list(triple) for triple in triples_list])"
      ],
      "metadata": {
        "id": "hrXHSpARtEwn"
      },
      "execution_count": 7,
      "outputs": []
    },
    {
      "cell_type": "code",
      "source": [
        "# Call the function to generate the graph\n",
        "\n",
        "generage_rdf_viz(rdf_js_str, height=400)"
      ],
      "metadata": {
        "colab": {
          "base_uri": "https://localhost:8080/",
          "height": 421
        },
        "id": "Byk4I7Q5s0k8",
        "outputId": "b1a61b34-8f4a-4c77-dbea-de11c47cb20d"
      },
      "execution_count": 8,
      "outputs": [
        {
          "output_type": "display_data",
          "data": {
            "text/plain": [
              "<IPython.core.display.HTML object>"
            ],
            "text/html": [
              "<style type=\"text/css\">\n",
              "\t\t.node {\n",
              "\t\t  stroke: #fff;\n",
              "\t\t  fill:#ddd;\n",
              "\t\t  stroke-width: 1.5px;\n",
              "\t\t}\n",
              "\n",
              "\t\t.link {\n",
              "\t\t  fill: none;\n",
              "\t\t  stroke: #999;\n",
              "\t\t  stroke-opacity: .6;\n",
              "\t\t  stroke-width: 1px;\n",
              "\t\t}\n",
              "\n",
              "\t\tmarker {\n",
              "\t\t\tstroke: #999;\n",
              "\t\t\tfill:rgba(124,240,10,0);\n",
              "\t\t}\n",
              "\n",
              "\t\t.node-text {\n",
              "\t\t  font: 11px sans-serif;\n",
              "\t\t  fill:black;\n",
              "\t\t}\n",
              "\n",
              "\t\t.link-text {\n",
              "\t\t  font: 9px sans-serif;\n",
              "\t\t  fill:grey;\n",
              "\t\t}\n",
              "\n",
              "\t\tsvg{\n",
              "\t\t\tborder:0px solid black;\n",
              "\t\t}\n",
              "\t</style>\n",
              "\n",
              "  <script src=\"https://ajax.googleapis.com/ajax/libs/jquery/2.1.3/jquery.min.js\"></script>\n",
              "\t<script src=\"https://d3js.org/d3.v3.min.js\"></script>\n",
              "\t<script>\n",
              "\t\tfunction filterNodesById(nodes,id){\n",
              "\t\t\treturn nodes.filter(function(n) { return n.id === id; });\n",
              "\t\t}\n",
              "\n",
              "\t\tfunction filterNodesByType(nodes,value){\n",
              "\t\t\treturn nodes.filter(function(n) { return n.type === value; });\n",
              "\t\t}\n",
              "\n",
              "\t\tfunction triplesToGraph(triples){\n",
              "\n",
              "\t\t\tsvg.html(\"\");\n",
              "\t\t\t//Graph\n",
              "\t\t\tvar graph={nodes:[], links:[], triples:[]};\n",
              "\n",
              "\t\t\t//Initial Graph from triples\n",
              "\t\t\ttriples.forEach(function(triple){\n",
              "        if (triple.length >= 3){\n",
              "          var subjId = triple[0];\n",
              "          var predId = triple[1];\n",
              "          var objId = triple[2];\n",
              "\n",
              "          var subjNode = filterNodesById(graph.nodes, subjId)[0];\n",
              "          var objNode  = filterNodesById(graph.nodes, objId)[0];\n",
              "\n",
              "          if(subjNode==null){\n",
              "            subjNode = {id:subjId, label:subjId, weight:1, type:\"node\"};\n",
              "            graph.nodes.push(subjNode);\n",
              "          }\n",
              "\n",
              "          if(objNode==null){\n",
              "            objNode = {id:objId, label:objId, weight:1, type:\"node\"};\n",
              "            graph.nodes.push(objNode);\n",
              "          }\n",
              "\n",
              "          var predNode = {id:predId, label:predId, weight:1, type:\"pred\"} ;\n",
              "          graph.nodes.push(predNode);\n",
              "\n",
              "          var blankLabel = \"\";\n",
              "\n",
              "          graph.links.push({source:subjNode, target:predNode, predicate:blankLabel, weight:1});\n",
              "          graph.links.push({source:predNode, target:objNode, predicate:blankLabel, weight:1});\n",
              "\n",
              "          graph.triples.push({s:subjNode, p:predNode, o:objNode});\n",
              "        }\n",
              "\t\t\t});\n",
              "\n",
              "\t\t\treturn graph;\n",
              "\t\t}\n",
              "\n",
              "\n",
              "\t\tfunction update(){\n",
              "\t\t\t// ==================== Add Marker ====================\n",
              "\t\t\tsvg.append(\"svg:defs\").selectAll(\"marker\")\n",
              "\t\t\t    .data([\"end\"])\n",
              "\t\t\t  .enter().append(\"svg:marker\")\n",
              "\t\t\t    .attr(\"id\", String)\n",
              "\t\t\t    .attr(\"viewBox\", \"0 -5 10 10\")\n",
              "\t\t\t    .attr(\"refX\", 30)\n",
              "\t\t\t    .attr(\"refY\", -0.5)\n",
              "\t\t\t    .attr(\"markerWidth\", 6)\n",
              "\t\t\t    .attr(\"markerHeight\", 6)\n",
              "\t\t\t    .attr(\"orient\", \"auto\")\n",
              "\t\t\t  .append(\"svg:polyline\")\n",
              "\t\t\t    .attr(\"points\", \"0,-5 10,0 0,5\")\n",
              "\t\t\t    ;\n",
              "\n",
              "\t\t\t// ==================== Add Links ====================\n",
              "\t\t\t var links = svg.selectAll(\".link\")\n",
              "\t\t\t\t\t\t\t\t.data(graph.triples)\n",
              "\t\t\t\t\t\t\t\t.enter()\n",
              "\t\t\t\t\t\t\t\t.append(\"path\")\n",
              "\t\t\t\t\t\t\t\t\t.attr(\"marker-end\", \"url(#end)\")\n",
              "\t\t\t\t\t\t\t\t\t.attr(\"class\", \"link\")\n",
              "\t\t\t\t\t\t\t;\n",
              "\n",
              "\t\t\t// ==================== Add Link Names =====================\n",
              "\t\t\tvar linkTexts = svg.selectAll(\".link-text\")\n",
              "\t\t                .data(graph.triples)\n",
              "\t\t                .enter()\n",
              "\t\t                .append(\"text\")\n",
              "\t\t\t\t\t\t\t.attr(\"class\", \"link-text\")\n",
              "\t\t\t\t\t\t\t.text( function (d) { return d.p.label; })\n",
              "\t\t\t\t\t\t;\n",
              "\n",
              "\t\t\t\t//linkTexts.append(\"title\")\n",
              "\t\t\t\t//\t\t.text(function(d) { return d.predicate; });\n",
              "\n",
              "\t\t\t// ==================== Add Link Names =====================\n",
              "\t\t\tvar nodeTexts = svg.selectAll(\".node-text\")\n",
              "\t\t                .data(filterNodesByType(graph.nodes, \"node\"))\n",
              "\t\t                .enter()\n",
              "\t\t                .append(\"text\")\n",
              "\t\t\t\t\t\t\t.attr(\"class\", \"node-text\")\n",
              "\t\t\t\t\t\t\t.text( function (d) { return d.label; })\n",
              "\t\t\t\t\t\t;\n",
              "\n",
              "\t\t\t\t//nodeTexts.append(\"title\")\n",
              "\t\t\t\t//\t\t.text(function(d) { return d.label; });\n",
              "\n",
              "\t\t\t// ==================== Add Node =====================\n",
              "\t\t\tvar nodes = svg.selectAll(\".node\")\n",
              "\t\t\t\t\t\t\t\t.data(filterNodesByType(graph.nodes, \"node\"))\n",
              "\t\t\t\t\t\t\t\t.enter()\n",
              "\t\t\t\t\t\t\t\t.append(\"circle\")\n",
              "\t\t\t\t\t\t\t\t\t.attr(\"class\", \"node\")\n",
              "\t\t\t\t\t\t\t\t\t.attr(\"r\",8)\n",
              "\t\t\t\t\t\t\t\t\t.call(force.drag)\n",
              "\t\t\t\t\t\t\t;//nodes\n",
              "\n",
              "\t\t\t// ==================== Force ====================\n",
              "\t\t\tforce.on(\"tick\", function() {\n",
              "\t\t\t\tnodes\n",
              "\t\t\t\t\t.attr(\"cx\", function(d){ return d.x; })\n",
              "\t\t\t\t\t.attr(\"cy\", function(d){ return d.y; })\n",
              "\t\t\t\t\t;\n",
              "\n",
              "\t\t\t\tlinks\n",
              "\t\t\t\t\t.attr(\"d\", function(d) {\n",
              "\t\t\t\t\t\t  return \"M\" \t+ d.s.x + \",\" + d.s.y\n",
              "\t\t\t\t\t\t\t\t\t\t+ \"S\" + d.p.x + \",\" + d.p.y\n",
              "\t\t\t\t\t\t\t\t\t\t+ \" \" + d.o.x + \",\" + d.o.y;\n",
              "\t\t\t\t\t\t})\n",
              "\t\t\t\t\t;\n",
              "\n",
              "\t\t\t\tnodeTexts\n",
              "\t\t\t\t\t.attr(\"x\", function(d) { return d.x + 12 ; })\n",
              "\t\t\t\t\t.attr(\"y\", function(d) { return d.y + 3; })\n",
              "\t\t\t\t\t;\n",
              "\n",
              "\n",
              "\t\t\t\tlinkTexts\n",
              "\t\t\t\t\t.attr(\"x\", function(d) { return 4 + (d.s.x + d.p.x + d.o.x)/3  ; })\n",
              "\t\t\t\t\t.attr(\"y\", function(d) { return 4 + (d.s.y + d.p.y + d.o.y)/3 ; })\n",
              "\t\t\t\t\t;\n",
              "\t\t\t});\n",
              "\n",
              "\t\t\t// ==================== Run ====================\n",
              "\t\t\tforce\n",
              "\t\t      .nodes(graph.nodes)\n",
              "\t\t      .links(graph.links)\n",
              "\t\t\t  .charge(-200)\n",
              "\t\t\t  .linkDistance(50)\n",
              "\t\t      .start()\n",
              "\t\t\t  ;\n",
              "\t\t}\n",
              "\n",
              "\n",
              "\t</script>\n",
              "\n",
              "\n",
              "  <div id=\"svg-body\" class=\"panel-body\"></div>\n",
              "  <script>\n",
              "  \tvar triples = [['ex:Thailand', 'ex:hasFood', 'ex:TomYumKung'], ['ex:TomYumKung', 'ex:isFoodOf', 'ex:Thailand'], ['ex:TomYumKung', 'rdf:type', 'ex:SpicyFood'], ['ex:TomYumKung', 'ex:includes', 'ex:shrimp'], ['ex:TomYumKung', 'ex:includes', 'ex:chilly'], ['ex:TomYumKung', 'ex:requires', 'ex:chilly'], ['ex:TomYumKung', 'ex:hasSpicy', 'ex:chilly'], ['ex:TomYumKung', 'ex:includes', 'ex:lime'], ['ex:lime', 'ex:hasTaste', 'ex:sour'], ['ex:lime', 'rdf:type', 'ex:Vegetable'], ['ex:lime', 'ex:popularIn', 'ex:Thailand'], ['ex:SpicyFood', 'ex:popularIn', 'ex:Thailand'], ['ex:shrimp', 'rdf:type', 'ex:Animal'], ['ex:chilly', 'ex:hasTaste', 'ex:spicy'], ['ex:chilly', 'rdf:type', 'ex:Vegetable']] ;\n",
              "\n",
              "\tvar svg = d3.select(\"#svg-body\").append(\"svg\")\n",
              "\t\t\t\t.attr(\"width\", 800 )\n",
              "\t\t\t\t.attr(\"height\", 400 )\n",
              "\t\t\t\t;\n",
              "\n",
              "\tvar force = d3.layout.force().size([ 800, 400 ]);\n",
              "\n",
              "\tvar graph = triplesToGraph(triples);\n",
              "\n",
              "\tupdate();\n",
              "\n",
              "  </script>\n"
            ]
          },
          "metadata": {}
        }
      ]
    },
    {
      "cell_type": "markdown",
      "source": [
        "---"
      ],
      "metadata": {
        "id": "eWh6CMaw2AHT"
      }
    },
    {
      "cell_type": "markdown",
      "source": [
        "## Usecase 2: RDF Graph from TTL"
      ],
      "metadata": {
        "id": "6w6Df2R9ydBu"
      }
    },
    {
      "cell_type": "code",
      "source": [],
      "metadata": {
        "id": "QK59VysY2Avq"
      },
      "execution_count": 8,
      "outputs": []
    },
    {
      "cell_type": "code",
      "source": [
        "# RDF graph in the Turtle format\n",
        "\n",
        "rdf_ttl_text = '''\n",
        "@prefix foaf: <http://xmlns.com/foaf/0.1/> .\n",
        "@prefix pp: <http://example.org/people/> .\n",
        "\n",
        "pp:bob a foaf:Person ;\n",
        "    foaf:knows pp:linda, pp:mark ;\n",
        "    foaf:name \"Bob\" .\n",
        "\n",
        "pp:linda a foaf:Person ;\n",
        "    foaf:name \"Linda\" .\n",
        "\n",
        "pp:mark foaf:name \"Mark\" .\n",
        "'''"
      ],
      "metadata": {
        "id": "3Jaan5xpyiyD"
      },
      "execution_count": 9,
      "outputs": []
    },
    {
      "cell_type": "code",
      "source": [
        "# Create a graph object\n",
        "\n",
        "g = rdflib.Graph()\n",
        "g.parse( data=rdf_ttl_text, format='turtle' )"
      ],
      "metadata": {
        "colab": {
          "base_uri": "https://localhost:8080/"
        },
        "id": "6GPc7f4ay4Ty",
        "outputId": "d4362b64-f034-49e0-afb5-64c8f3742dcf"
      },
      "execution_count": 10,
      "outputs": [
        {
          "output_type": "execute_result",
          "data": {
            "text/plain": [
              "<Graph identifier=Nf3d57dcd0d7a4b4c8b3b399d15f9b891 (<class 'rdflib.graph.Graph'>)>"
            ]
          },
          "metadata": {},
          "execution_count": 10
        }
      ]
    },
    {
      "cell_type": "code",
      "source": [
        "# Convert an RDF Graph from the list of tuples\n",
        "triples_list = [(str(s), str(p), str(o)) for s, p, o in g]\n",
        "\n",
        "# Create a string from the list\n",
        "rdf_js_str = str([list(triple) for triple in triples_list])"
      ],
      "metadata": {
        "id": "hfh-lxDTzDry"
      },
      "execution_count": 11,
      "outputs": []
    },
    {
      "cell_type": "code",
      "source": [
        "# Call the function to generate the graph\n",
        "\n",
        "generage_rdf_viz(rdf_js_str, height=400)"
      ],
      "metadata": {
        "colab": {
          "base_uri": "https://localhost:8080/",
          "height": 421
        },
        "id": "lrQEe1Zizmlo",
        "outputId": "e018852b-7f05-4679-e8eb-f894c5b74a2a"
      },
      "execution_count": 12,
      "outputs": [
        {
          "output_type": "display_data",
          "data": {
            "text/plain": [
              "<IPython.core.display.HTML object>"
            ],
            "text/html": [
              "<style type=\"text/css\">\n",
              "\t\t.node {\n",
              "\t\t  stroke: #fff;\n",
              "\t\t  fill:#ddd;\n",
              "\t\t  stroke-width: 1.5px;\n",
              "\t\t}\n",
              "\n",
              "\t\t.link {\n",
              "\t\t  fill: none;\n",
              "\t\t  stroke: #999;\n",
              "\t\t  stroke-opacity: .6;\n",
              "\t\t  stroke-width: 1px;\n",
              "\t\t}\n",
              "\n",
              "\t\tmarker {\n",
              "\t\t\tstroke: #999;\n",
              "\t\t\tfill:rgba(124,240,10,0);\n",
              "\t\t}\n",
              "\n",
              "\t\t.node-text {\n",
              "\t\t  font: 11px sans-serif;\n",
              "\t\t  fill:black;\n",
              "\t\t}\n",
              "\n",
              "\t\t.link-text {\n",
              "\t\t  font: 9px sans-serif;\n",
              "\t\t  fill:grey;\n",
              "\t\t}\n",
              "\n",
              "\t\tsvg{\n",
              "\t\t\tborder:0px solid black;\n",
              "\t\t}\n",
              "\t</style>\n",
              "\n",
              "  <script src=\"https://ajax.googleapis.com/ajax/libs/jquery/2.1.3/jquery.min.js\"></script>\n",
              "\t<script src=\"https://d3js.org/d3.v3.min.js\"></script>\n",
              "\t<script>\n",
              "\t\tfunction filterNodesById(nodes,id){\n",
              "\t\t\treturn nodes.filter(function(n) { return n.id === id; });\n",
              "\t\t}\n",
              "\n",
              "\t\tfunction filterNodesByType(nodes,value){\n",
              "\t\t\treturn nodes.filter(function(n) { return n.type === value; });\n",
              "\t\t}\n",
              "\n",
              "\t\tfunction triplesToGraph(triples){\n",
              "\n",
              "\t\t\tsvg.html(\"\");\n",
              "\t\t\t//Graph\n",
              "\t\t\tvar graph={nodes:[], links:[], triples:[]};\n",
              "\n",
              "\t\t\t//Initial Graph from triples\n",
              "\t\t\ttriples.forEach(function(triple){\n",
              "        if (triple.length >= 3){\n",
              "          var subjId = triple[0];\n",
              "          var predId = triple[1];\n",
              "          var objId = triple[2];\n",
              "\n",
              "          var subjNode = filterNodesById(graph.nodes, subjId)[0];\n",
              "          var objNode  = filterNodesById(graph.nodes, objId)[0];\n",
              "\n",
              "          if(subjNode==null){\n",
              "            subjNode = {id:subjId, label:subjId, weight:1, type:\"node\"};\n",
              "            graph.nodes.push(subjNode);\n",
              "          }\n",
              "\n",
              "          if(objNode==null){\n",
              "            objNode = {id:objId, label:objId, weight:1, type:\"node\"};\n",
              "            graph.nodes.push(objNode);\n",
              "          }\n",
              "\n",
              "          var predNode = {id:predId, label:predId, weight:1, type:\"pred\"} ;\n",
              "          graph.nodes.push(predNode);\n",
              "\n",
              "          var blankLabel = \"\";\n",
              "\n",
              "          graph.links.push({source:subjNode, target:predNode, predicate:blankLabel, weight:1});\n",
              "          graph.links.push({source:predNode, target:objNode, predicate:blankLabel, weight:1});\n",
              "\n",
              "          graph.triples.push({s:subjNode, p:predNode, o:objNode});\n",
              "        }\n",
              "\t\t\t});\n",
              "\n",
              "\t\t\treturn graph;\n",
              "\t\t}\n",
              "\n",
              "\n",
              "\t\tfunction update(){\n",
              "\t\t\t// ==================== Add Marker ====================\n",
              "\t\t\tsvg.append(\"svg:defs\").selectAll(\"marker\")\n",
              "\t\t\t    .data([\"end\"])\n",
              "\t\t\t  .enter().append(\"svg:marker\")\n",
              "\t\t\t    .attr(\"id\", String)\n",
              "\t\t\t    .attr(\"viewBox\", \"0 -5 10 10\")\n",
              "\t\t\t    .attr(\"refX\", 30)\n",
              "\t\t\t    .attr(\"refY\", -0.5)\n",
              "\t\t\t    .attr(\"markerWidth\", 6)\n",
              "\t\t\t    .attr(\"markerHeight\", 6)\n",
              "\t\t\t    .attr(\"orient\", \"auto\")\n",
              "\t\t\t  .append(\"svg:polyline\")\n",
              "\t\t\t    .attr(\"points\", \"0,-5 10,0 0,5\")\n",
              "\t\t\t    ;\n",
              "\n",
              "\t\t\t// ==================== Add Links ====================\n",
              "\t\t\t var links = svg.selectAll(\".link\")\n",
              "\t\t\t\t\t\t\t\t.data(graph.triples)\n",
              "\t\t\t\t\t\t\t\t.enter()\n",
              "\t\t\t\t\t\t\t\t.append(\"path\")\n",
              "\t\t\t\t\t\t\t\t\t.attr(\"marker-end\", \"url(#end)\")\n",
              "\t\t\t\t\t\t\t\t\t.attr(\"class\", \"link\")\n",
              "\t\t\t\t\t\t\t;\n",
              "\n",
              "\t\t\t// ==================== Add Link Names =====================\n",
              "\t\t\tvar linkTexts = svg.selectAll(\".link-text\")\n",
              "\t\t                .data(graph.triples)\n",
              "\t\t                .enter()\n",
              "\t\t                .append(\"text\")\n",
              "\t\t\t\t\t\t\t.attr(\"class\", \"link-text\")\n",
              "\t\t\t\t\t\t\t.text( function (d) { return d.p.label; })\n",
              "\t\t\t\t\t\t;\n",
              "\n",
              "\t\t\t\t//linkTexts.append(\"title\")\n",
              "\t\t\t\t//\t\t.text(function(d) { return d.predicate; });\n",
              "\n",
              "\t\t\t// ==================== Add Link Names =====================\n",
              "\t\t\tvar nodeTexts = svg.selectAll(\".node-text\")\n",
              "\t\t                .data(filterNodesByType(graph.nodes, \"node\"))\n",
              "\t\t                .enter()\n",
              "\t\t                .append(\"text\")\n",
              "\t\t\t\t\t\t\t.attr(\"class\", \"node-text\")\n",
              "\t\t\t\t\t\t\t.text( function (d) { return d.label; })\n",
              "\t\t\t\t\t\t;\n",
              "\n",
              "\t\t\t\t//nodeTexts.append(\"title\")\n",
              "\t\t\t\t//\t\t.text(function(d) { return d.label; });\n",
              "\n",
              "\t\t\t// ==================== Add Node =====================\n",
              "\t\t\tvar nodes = svg.selectAll(\".node\")\n",
              "\t\t\t\t\t\t\t\t.data(filterNodesByType(graph.nodes, \"node\"))\n",
              "\t\t\t\t\t\t\t\t.enter()\n",
              "\t\t\t\t\t\t\t\t.append(\"circle\")\n",
              "\t\t\t\t\t\t\t\t\t.attr(\"class\", \"node\")\n",
              "\t\t\t\t\t\t\t\t\t.attr(\"r\",8)\n",
              "\t\t\t\t\t\t\t\t\t.call(force.drag)\n",
              "\t\t\t\t\t\t\t;//nodes\n",
              "\n",
              "\t\t\t// ==================== Force ====================\n",
              "\t\t\tforce.on(\"tick\", function() {\n",
              "\t\t\t\tnodes\n",
              "\t\t\t\t\t.attr(\"cx\", function(d){ return d.x; })\n",
              "\t\t\t\t\t.attr(\"cy\", function(d){ return d.y; })\n",
              "\t\t\t\t\t;\n",
              "\n",
              "\t\t\t\tlinks\n",
              "\t\t\t\t\t.attr(\"d\", function(d) {\n",
              "\t\t\t\t\t\t  return \"M\" \t+ d.s.x + \",\" + d.s.y\n",
              "\t\t\t\t\t\t\t\t\t\t+ \"S\" + d.p.x + \",\" + d.p.y\n",
              "\t\t\t\t\t\t\t\t\t\t+ \" \" + d.o.x + \",\" + d.o.y;\n",
              "\t\t\t\t\t\t})\n",
              "\t\t\t\t\t;\n",
              "\n",
              "\t\t\t\tnodeTexts\n",
              "\t\t\t\t\t.attr(\"x\", function(d) { return d.x + 12 ; })\n",
              "\t\t\t\t\t.attr(\"y\", function(d) { return d.y + 3; })\n",
              "\t\t\t\t\t;\n",
              "\n",
              "\n",
              "\t\t\t\tlinkTexts\n",
              "\t\t\t\t\t.attr(\"x\", function(d) { return 4 + (d.s.x + d.p.x + d.o.x)/3  ; })\n",
              "\t\t\t\t\t.attr(\"y\", function(d) { return 4 + (d.s.y + d.p.y + d.o.y)/3 ; })\n",
              "\t\t\t\t\t;\n",
              "\t\t\t});\n",
              "\n",
              "\t\t\t// ==================== Run ====================\n",
              "\t\t\tforce\n",
              "\t\t      .nodes(graph.nodes)\n",
              "\t\t      .links(graph.links)\n",
              "\t\t\t  .charge(-200)\n",
              "\t\t\t  .linkDistance(50)\n",
              "\t\t      .start()\n",
              "\t\t\t  ;\n",
              "\t\t}\n",
              "\n",
              "\n",
              "\t</script>\n",
              "\n",
              "\n",
              "  <div id=\"svg-body\" class=\"panel-body\"></div>\n",
              "  <script>\n",
              "  \tvar triples = [['http://example.org/people/linda', 'http://xmlns.com/foaf/0.1/name', 'Linda'], ['http://example.org/people/mark', 'http://xmlns.com/foaf/0.1/name', 'Mark'], ['http://example.org/people/bob', 'http://www.w3.org/1999/02/22-rdf-syntax-ns#type', 'http://xmlns.com/foaf/0.1/Person'], ['http://example.org/people/linda', 'http://www.w3.org/1999/02/22-rdf-syntax-ns#type', 'http://xmlns.com/foaf/0.1/Person'], ['http://example.org/people/bob', 'http://xmlns.com/foaf/0.1/knows', 'http://example.org/people/mark'], ['http://example.org/people/bob', 'http://xmlns.com/foaf/0.1/name', 'Bob'], ['http://example.org/people/bob', 'http://xmlns.com/foaf/0.1/knows', 'http://example.org/people/linda']] ;\n",
              "\n",
              "\tvar svg = d3.select(\"#svg-body\").append(\"svg\")\n",
              "\t\t\t\t.attr(\"width\", 800 )\n",
              "\t\t\t\t.attr(\"height\", 400 )\n",
              "\t\t\t\t;\n",
              "\n",
              "\tvar force = d3.layout.force().size([ 800, 400 ]);\n",
              "\n",
              "\tvar graph = triplesToGraph(triples);\n",
              "\n",
              "\tupdate();\n",
              "\n",
              "  </script>\n"
            ]
          },
          "metadata": {}
        }
      ]
    },
    {
      "cell_type": "markdown",
      "source": [
        "---"
      ],
      "metadata": {
        "id": "DhGN5n7m18y9"
      }
    },
    {
      "cell_type": "markdown",
      "source": [
        "## Usecase 3: RDF Graph from LOD"
      ],
      "metadata": {
        "id": "esPFqsht1_IR"
      }
    },
    {
      "cell_type": "code",
      "source": [
        "g = rdflib.Graph()\n",
        "g.parse('http://www.w3.org/People/Berners-Lee/card')"
      ],
      "metadata": {
        "colab": {
          "base_uri": "https://localhost:8080/"
        },
        "id": "l0tiftaj1-UR",
        "outputId": "f7b25093-172d-4d4c-f405-9194270a14ca"
      },
      "execution_count": 13,
      "outputs": [
        {
          "output_type": "execute_result",
          "data": {
            "text/plain": [
              "<Graph identifier=N6a12709fe610422fa5507bc9a0cb3f54 (<class 'rdflib.graph.Graph'>)>"
            ]
          },
          "metadata": {},
          "execution_count": 13
        }
      ]
    },
    {
      "cell_type": "code",
      "source": [
        "# Convert an RDF Graph from the list of tuples\n",
        "triples_list = [(str(s), str(p), str(o)) for s, p, o in g]\n",
        "\n",
        "# Create a string from the list\n",
        "rdf_js_str = str([list(triple) for triple in triples_list])"
      ],
      "metadata": {
        "id": "wH4EMouy2_MO"
      },
      "execution_count": 14,
      "outputs": []
    },
    {
      "cell_type": "code",
      "source": [
        "# Call the function to generate the graph\n",
        "\n",
        "generage_rdf_viz(rdf_js_str, width=1000, height=1000)"
      ],
      "metadata": {
        "colab": {
          "base_uri": "https://localhost:8080/",
          "height": 1000
        },
        "id": "_-5ZC6313Av_",
        "outputId": "9a140c8f-df3a-422f-ee02-59485923b03e"
      },
      "execution_count": 15,
      "outputs": [
        {
          "output_type": "display_data",
          "data": {
            "text/plain": [
              "<IPython.core.display.HTML object>"
            ],
            "text/html": [
              "<style type=\"text/css\">\n",
              "\t\t.node {\n",
              "\t\t  stroke: #fff;\n",
              "\t\t  fill:#ddd;\n",
              "\t\t  stroke-width: 1.5px;\n",
              "\t\t}\n",
              "\n",
              "\t\t.link {\n",
              "\t\t  fill: none;\n",
              "\t\t  stroke: #999;\n",
              "\t\t  stroke-opacity: .6;\n",
              "\t\t  stroke-width: 1px;\n",
              "\t\t}\n",
              "\n",
              "\t\tmarker {\n",
              "\t\t\tstroke: #999;\n",
              "\t\t\tfill:rgba(124,240,10,0);\n",
              "\t\t}\n",
              "\n",
              "\t\t.node-text {\n",
              "\t\t  font: 11px sans-serif;\n",
              "\t\t  fill:black;\n",
              "\t\t}\n",
              "\n",
              "\t\t.link-text {\n",
              "\t\t  font: 9px sans-serif;\n",
              "\t\t  fill:grey;\n",
              "\t\t}\n",
              "\n",
              "\t\tsvg{\n",
              "\t\t\tborder:0px solid black;\n",
              "\t\t}\n",
              "\t</style>\n",
              "\n",
              "  <script src=\"https://ajax.googleapis.com/ajax/libs/jquery/2.1.3/jquery.min.js\"></script>\n",
              "\t<script src=\"https://d3js.org/d3.v3.min.js\"></script>\n",
              "\t<script>\n",
              "\t\tfunction filterNodesById(nodes,id){\n",
              "\t\t\treturn nodes.filter(function(n) { return n.id === id; });\n",
              "\t\t}\n",
              "\n",
              "\t\tfunction filterNodesByType(nodes,value){\n",
              "\t\t\treturn nodes.filter(function(n) { return n.type === value; });\n",
              "\t\t}\n",
              "\n",
              "\t\tfunction triplesToGraph(triples){\n",
              "\n",
              "\t\t\tsvg.html(\"\");\n",
              "\t\t\t//Graph\n",
              "\t\t\tvar graph={nodes:[], links:[], triples:[]};\n",
              "\n",
              "\t\t\t//Initial Graph from triples\n",
              "\t\t\ttriples.forEach(function(triple){\n",
              "        if (triple.length >= 3){\n",
              "          var subjId = triple[0];\n",
              "          var predId = triple[1];\n",
              "          var objId = triple[2];\n",
              "\n",
              "          var subjNode = filterNodesById(graph.nodes, subjId)[0];\n",
              "          var objNode  = filterNodesById(graph.nodes, objId)[0];\n",
              "\n",
              "          if(subjNode==null){\n",
              "            subjNode = {id:subjId, label:subjId, weight:1, type:\"node\"};\n",
              "            graph.nodes.push(subjNode);\n",
              "          }\n",
              "\n",
              "          if(objNode==null){\n",
              "            objNode = {id:objId, label:objId, weight:1, type:\"node\"};\n",
              "            graph.nodes.push(objNode);\n",
              "          }\n",
              "\n",
              "          var predNode = {id:predId, label:predId, weight:1, type:\"pred\"} ;\n",
              "          graph.nodes.push(predNode);\n",
              "\n",
              "          var blankLabel = \"\";\n",
              "\n",
              "          graph.links.push({source:subjNode, target:predNode, predicate:blankLabel, weight:1});\n",
              "          graph.links.push({source:predNode, target:objNode, predicate:blankLabel, weight:1});\n",
              "\n",
              "          graph.triples.push({s:subjNode, p:predNode, o:objNode});\n",
              "        }\n",
              "\t\t\t});\n",
              "\n",
              "\t\t\treturn graph;\n",
              "\t\t}\n",
              "\n",
              "\n",
              "\t\tfunction update(){\n",
              "\t\t\t// ==================== Add Marker ====================\n",
              "\t\t\tsvg.append(\"svg:defs\").selectAll(\"marker\")\n",
              "\t\t\t    .data([\"end\"])\n",
              "\t\t\t  .enter().append(\"svg:marker\")\n",
              "\t\t\t    .attr(\"id\", String)\n",
              "\t\t\t    .attr(\"viewBox\", \"0 -5 10 10\")\n",
              "\t\t\t    .attr(\"refX\", 30)\n",
              "\t\t\t    .attr(\"refY\", -0.5)\n",
              "\t\t\t    .attr(\"markerWidth\", 6)\n",
              "\t\t\t    .attr(\"markerHeight\", 6)\n",
              "\t\t\t    .attr(\"orient\", \"auto\")\n",
              "\t\t\t  .append(\"svg:polyline\")\n",
              "\t\t\t    .attr(\"points\", \"0,-5 10,0 0,5\")\n",
              "\t\t\t    ;\n",
              "\n",
              "\t\t\t// ==================== Add Links ====================\n",
              "\t\t\t var links = svg.selectAll(\".link\")\n",
              "\t\t\t\t\t\t\t\t.data(graph.triples)\n",
              "\t\t\t\t\t\t\t\t.enter()\n",
              "\t\t\t\t\t\t\t\t.append(\"path\")\n",
              "\t\t\t\t\t\t\t\t\t.attr(\"marker-end\", \"url(#end)\")\n",
              "\t\t\t\t\t\t\t\t\t.attr(\"class\", \"link\")\n",
              "\t\t\t\t\t\t\t;\n",
              "\n",
              "\t\t\t// ==================== Add Link Names =====================\n",
              "\t\t\tvar linkTexts = svg.selectAll(\".link-text\")\n",
              "\t\t                .data(graph.triples)\n",
              "\t\t                .enter()\n",
              "\t\t                .append(\"text\")\n",
              "\t\t\t\t\t\t\t.attr(\"class\", \"link-text\")\n",
              "\t\t\t\t\t\t\t.text( function (d) { return d.p.label; })\n",
              "\t\t\t\t\t\t;\n",
              "\n",
              "\t\t\t\t//linkTexts.append(\"title\")\n",
              "\t\t\t\t//\t\t.text(function(d) { return d.predicate; });\n",
              "\n",
              "\t\t\t// ==================== Add Link Names =====================\n",
              "\t\t\tvar nodeTexts = svg.selectAll(\".node-text\")\n",
              "\t\t                .data(filterNodesByType(graph.nodes, \"node\"))\n",
              "\t\t                .enter()\n",
              "\t\t                .append(\"text\")\n",
              "\t\t\t\t\t\t\t.attr(\"class\", \"node-text\")\n",
              "\t\t\t\t\t\t\t.text( function (d) { return d.label; })\n",
              "\t\t\t\t\t\t;\n",
              "\n",
              "\t\t\t\t//nodeTexts.append(\"title\")\n",
              "\t\t\t\t//\t\t.text(function(d) { return d.label; });\n",
              "\n",
              "\t\t\t// ==================== Add Node =====================\n",
              "\t\t\tvar nodes = svg.selectAll(\".node\")\n",
              "\t\t\t\t\t\t\t\t.data(filterNodesByType(graph.nodes, \"node\"))\n",
              "\t\t\t\t\t\t\t\t.enter()\n",
              "\t\t\t\t\t\t\t\t.append(\"circle\")\n",
              "\t\t\t\t\t\t\t\t\t.attr(\"class\", \"node\")\n",
              "\t\t\t\t\t\t\t\t\t.attr(\"r\",8)\n",
              "\t\t\t\t\t\t\t\t\t.call(force.drag)\n",
              "\t\t\t\t\t\t\t;//nodes\n",
              "\n",
              "\t\t\t// ==================== Force ====================\n",
              "\t\t\tforce.on(\"tick\", function() {\n",
              "\t\t\t\tnodes\n",
              "\t\t\t\t\t.attr(\"cx\", function(d){ return d.x; })\n",
              "\t\t\t\t\t.attr(\"cy\", function(d){ return d.y; })\n",
              "\t\t\t\t\t;\n",
              "\n",
              "\t\t\t\tlinks\n",
              "\t\t\t\t\t.attr(\"d\", function(d) {\n",
              "\t\t\t\t\t\t  return \"M\" \t+ d.s.x + \",\" + d.s.y\n",
              "\t\t\t\t\t\t\t\t\t\t+ \"S\" + d.p.x + \",\" + d.p.y\n",
              "\t\t\t\t\t\t\t\t\t\t+ \" \" + d.o.x + \",\" + d.o.y;\n",
              "\t\t\t\t\t\t})\n",
              "\t\t\t\t\t;\n",
              "\n",
              "\t\t\t\tnodeTexts\n",
              "\t\t\t\t\t.attr(\"x\", function(d) { return d.x + 12 ; })\n",
              "\t\t\t\t\t.attr(\"y\", function(d) { return d.y + 3; })\n",
              "\t\t\t\t\t;\n",
              "\n",
              "\n",
              "\t\t\t\tlinkTexts\n",
              "\t\t\t\t\t.attr(\"x\", function(d) { return 4 + (d.s.x + d.p.x + d.o.x)/3  ; })\n",
              "\t\t\t\t\t.attr(\"y\", function(d) { return 4 + (d.s.y + d.p.y + d.o.y)/3 ; })\n",
              "\t\t\t\t\t;\n",
              "\t\t\t});\n",
              "\n",
              "\t\t\t// ==================== Run ====================\n",
              "\t\t\tforce\n",
              "\t\t      .nodes(graph.nodes)\n",
              "\t\t      .links(graph.links)\n",
              "\t\t\t  .charge(-200)\n",
              "\t\t\t  .linkDistance(50)\n",
              "\t\t      .start()\n",
              "\t\t\t  ;\n",
              "\t\t}\n",
              "\n",
              "\n",
              "\t</script>\n",
              "\n",
              "\n",
              "  <div id=\"svg-body\" class=\"panel-body\"></div>\n",
              "  <script>\n",
              "  \tvar triples = [['https://www.w3.org/People/Berners-Lee/card#i', 'http://www.w3.org/ns/solid/terms#publicTypeIndex', 'https://timbl.com/timbl/Public/PublicTypeIndex.ttl'], ['https://www.w3.org/People/Berners-Lee/card', 'http://www.w3.org/1999/02/22-rdf-syntax-ns#type', 'http://xmlns.com/foaf/0.1/PersonalProfileDocument'], ['https://www.w3.org/People/Berners-Lee/card#i', 'http://xmlns.com/foaf/0.1/title', 'Sir'], ['https://www.w3.org/People/Berners-Lee/card#i', 'http://www.w3.org/ns/solid/terms#oidcIssuer', 'https://timbl.com'], ['https://www.w3.org/People/Berners-Lee/card', 'http://xmlns.com/foaf/0.1/maker', 'https://www.w3.org/People/Berners-Lee/card#i'], ['n9cec5a2737044b70984e15c0e36cca01b3', 'http://www.w3.org/2000/10/swap/pim/contact#country', 'USA'], ['http://dig.csail.mit.edu/breadcrumbs/blog/4', 'http://www.w3.org/2000/01/rdf-schema#seeAlso', 'http://dig.csail.mit.edu/breadcrumbs/blog/feed/4'], ['http://www.w3.org/2011/Talks/0331-hyderabad-tbl/data#talk', 'http://xmlns.com/foaf/0.1/maker', 'https://www.w3.org/People/Berners-Lee/card#i'], ['https://www.w3.org/People/Berners-Lee/card#i', 'http://xmlns.com/foaf/0.1/based_near', 'n9cec5a2737044b70984e15c0e36cca01b6'], ['http://www.w3.org/2011/Talks/0331-hyderabad-tbl/data#talk', 'http://purl.org/dc/terms/title', 'Designing the Web for an Open Society'], ['https://www.w3.org/People/Berners-Lee/card#i', 'http://www.w3.org/2000/10/swap/pim/contact#publicHomePage', 'https://www.w3.org/People/Berners-Lee/'], ['https://www.w3.org/People/Berners-Lee/card#i', 'http://xmlns.com/foaf/0.1/mbox_sha1sum', '965c47c5a70db7407210cef6e4e6f5374a525c5c'], ['http://dig.csail.mit.edu/2005/ajar/ajaw/data#Tabulator', 'http://usefulinc.com/ns/doap#developer', 'https://www.w3.org/People/Berners-Lee/card#i'], ['https://www.w3.org/People/Berners-Lee/card#i', 'http://www.w3.org/ns/ldp#inbox', 'https://timbl.com/timbl/Public/Inbox'], ['n9cec5a2737044b70984e15c0e36cca01b3', 'http://www.w3.org/2000/10/swap/pim/contact#postalCode', '02139'], ['n9cec5a2737044b70984e15c0e36cca01b6', 'http://www.w3.org/2003/01/geo/wgs84_pos#long', '-71.091840'], ['https://www.w3.org/People/Berners-Lee/card#i', 'http://www.w3.org/2006/vcard/ns#hasAddress', 'n9cec5a2737044b70984e15c0e36cca01b5'], ['https://www.w3.org/People/Berners-Lee/card#i', 'http://xmlns.com/foaf/0.1/openid', 'https://www.w3.org/People/Berners-Lee/'], ['https://www.w3.org/People/Berners-Lee/card#i', 'http://xmlns.com/foaf/0.1/nick', 'TimBL'], ['http://wiki.ontoworld.org/index.php/_IRW2006', 'http://www.w3.org/2000/10/swap/pim/contact#participant', 'https://www.w3.org/People/Berners-Lee/card#i'], ['https://www.w3.org/People/Berners-Lee/card#i', 'http://www.w3.org/2000/10/swap/pim/contact#office', 'n9cec5a2737044b70984e15c0e36cca01b2'], ['https://www.w3.org/People/Berners-Lee/card', 'http://purl.org/dc/elements/1.1/title', \"Tim Berners-Lee's FOAF file\"], ['https://timbl.com/timbl/Public/friends.ttl', 'http://purl.org/dc/elements/1.1/title', \"Tim Berners-Lee's editable profile\"], ['https://www.w3.org/People/Berners-Lee/card#i', 'http://xmlns.com/foaf/0.1/workplaceHomepage', 'https://www.w3.org/'], ['https://www.w3.org/People/Berners-Lee/card#i', 'http://www.w3.org/2006/vcard/ns#fn', 'Tim Berners-Lee'], ['https://www.w3.org/People/Berners-Lee/card#i', 'http://xmlns.com/foaf/0.1/givenname', 'Timothy'], ['n9cec5a2737044b70984e15c0e36cca01b5', 'http://www.w3.org/2006/vcard/ns#postal-code', '02139'], ['https://www.w3.org/People/Berners-Lee/card#i', 'http://schema.org/owns', 'https://timblbot.inrupt.net/profile/card#me'], ['https://www.w3.org/People/Berners-Lee/card#i', 'http://xmlns.com/foaf/0.1/name', 'Timothy Berners-Lee'], ['https://www.w3.org/People/Berners-Lee/card#i', 'http://www.w3.org/1999/02/22-rdf-syntax-ns#type', 'http://xmlns.com/foaf/0.1/Person'], ['n9cec5a2737044b70984e15c0e36cca01b6', 'http://www.w3.org/2003/01/geo/wgs84_pos#lat', '42.361860'], ['https://www.w3.org/People/Berners-Lee/card#i', 'http://xmlns.com/foaf/0.1/account', 'http://twitter.com/timberners_lee'], ['n9cec5a2737044b70984e15c0e36cca01b2', 'http://www.w3.org/2000/10/swap/pim/contact#address', 'n9cec5a2737044b70984e15c0e36cca01b3'], ['http://dig.csail.mit.edu/breadcrumbs/blog/4', 'http://purl.org/dc/elements/1.1/title', \"timbl's blog on DIG\"], ['https://www.w3.org/People/Berners-Lee/card#i', 'http://rdfs.org/sioc/ns#avatar', 'https://www.w3.org/People/Berners-Lee/images/timbl-image-by-Coz-cropped.jpg'], ['http://www.ecs.soton.ac.uk/~dt2/dlstuff/www2006_data#panel-panelk01', 'http://www.w3.org/2000/01/rdf-schema#label', 'The Next Wave of the Web (Plenary Panel)'], ['https://www.w3.org/People/Berners-Lee/card#i', 'http://xmlns.com/foaf/0.1/homepage', 'https://www.w3.org/People/Berners-Lee/'], ['http://www.ecs.soton.ac.uk/~dt2/dlstuff/www2006_data#panel-panelk01', 'http://www.w3.org/2000/10/swap/pim/contact#participant', 'https://www.w3.org/People/Berners-Lee/card#i'], ['https://www.w3.org/People/Berners-Lee/card#i', 'http://www.w3.org/ns/solid/terms#editableProfile', 'https://timbl.com/timbl/Public/friends.ttl'], ['https://www.w3.org/People/Berners-Lee/card#i', 'http://www.w3.org/ns/auth/cert#key', 'n9cec5a2737044b70984e15c0e36cca01b1'], ['n9cec5a2737044b70984e15c0e36cca01b1', 'http://www.w3.org/ns/auth/cert#modulus', 'ebe99c737bd3670239600547e5e2eb1d1497da39947b6576c3c44ffeca32cf0f2f7cbee3c47001278a90fc7fc5bcf292f741eb1fcd6bbe7f90650afb519cf13e81b2bffc6e02063ee5a55781d420b1dfaf61c15758480e66d47fb0dcb5fa7b9f7f1052e5ccbd01beee9553c3b6b51f4daf1fce991294cd09a3d1d636bc6c7656e4455d0aff06daec740ed0084aa6866fcae1359de61cc12dbe37c8fa42e977c6e727a8258bb9a3f265b27e3766fe0697f6aa0bcc81c3f026e387bd7bbc81580dc1853af2daa099186a9f59da526474ef6ec0a3d84cf400be3261b6b649dea1f78184862d34d685d2d587f09acc14cd8e578fdd2283387821296f0af39b8d8845'], ['https://www.w3.org/People/Berners-Lee/card#i', 'http://xmlns.com/foaf/0.1/account', 'http://en.wikipedia.org/wiki/User:Timbl'], ['https://www.w3.org/People/Berners-Lee/card#i', 'http://www.w3.org/ns/pim/space#storage', 'https://timbl.solid.community/'], ['http://www.w3.org/2000/10/swap/data#Cwm', 'http://usefulinc.com/ns/doap#developer', 'https://www.w3.org/People/Berners-Lee/card#i'], ['n9cec5a2737044b70984e15c0e36cca01b3', 'http://www.w3.org/2000/10/swap/pim/contact#street', '32 Vassar Street'], ['https://www.w3.org/People/Berners-Lee/card#i', 'http://xmlns.com/foaf/0.1/nick', 'timbl'], ['https://www.w3.org/People/Berners-Lee/card#i', 'http://xmlns.com/foaf/0.1/account', 'http://www.reddit.com/user/timbl/'], ['https://timbl.com/timbl/Public/friends.ttl', 'http://creativecommons.org/ns#license', 'http://creativecommons.org/licenses/by-nc/3.0/'], ['https://www.w3.org/People/Berners-Lee/card#i', 'http://www.w3.org/2000/01/rdf-schema#label', 'Tim Berners-Lee'], ['https://www.w3.org/People/Berners-Lee/card#i', 'http://www.w3.org/ns/pim/space#preferencesFile', 'https://timbl.com/timbl/Data/preferences.n3'], ['https://www.w3.org/People/Berners-Lee/card#i', 'http://www.w3.org/ns/solid/terms#profileBackgroundColor', '#ffffff'], ['https://www.w3.org/DesignIssues/Overview.html', 'http://xmlns.com/foaf/0.1/maker', 'https://www.w3.org/People/Berners-Lee/card#i'], ['n9cec5a2737044b70984e15c0e36cca01b3', 'http://www.w3.org/2000/10/swap/pim/contact#city', 'Cambridge'], ['n9cec5a2737044b70984e15c0e36cca01b2', 'http://www.w3.org/2003/01/geo/wgs84_pos#location', 'n9cec5a2737044b70984e15c0e36cca01b4'], ['https://www.w3.org/People/Berners-Lee/card#i', 'http://xmlns.com/foaf/0.1/weblog', 'http://dig.csail.mit.edu/breadcrumbs/blog/4'], ['https://www.w3.org/People/Berners-Lee/card#i', 'http://www.w3.org/ns/pim/space#storage', 'https://timbl.com/timbl/Public/'], ['https://timbl.com/timbl/Public/friends.ttl', 'http://xmlns.com/foaf/0.1/primaryTopic', 'https://www.w3.org/People/Berners-Lee/card#i'], ['https://www.w3.org/People/Berners-Lee/card#i', 'http://www.w3.org/1999/02/22-rdf-syntax-ns#type', 'http://www.w3.org/2000/10/swap/pim/contact#Male'], ['http://dig.csail.mit.edu/2007/01/camp/data#course', 'http://xmlns.com/foaf/0.1/maker', 'https://www.w3.org/People/Berners-Lee/card#i'], ['https://www.w3.org/People/Berners-Lee/card#i', 'http://www.w3.org/2000/10/swap/pim/contact#preferredURI', 'https://www.w3.org/People/Berners-Lee/card#i'], ['https://www.w3.org/DesignIssues/Overview.html', 'http://purl.org/dc/elements/1.1/title', 'Design Issues for the World Wide Web'], ['n9cec5a2737044b70984e15c0e36cca01b4', 'http://www.w3.org/2003/01/geo/wgs84_pos#long', '-71.091840'], ['https://www.w3.org/People/Berners-Lee/card#i', 'http://www.w3.org/ns/pim/space#storage', 'https://timbl.inrupt.net/'], ['https://timbl.com/timbl/Public/friends.ttl', 'http://www.w3.org/1999/02/22-rdf-syntax-ns#type', 'http://xmlns.com/foaf/0.1/PersonalProfileDocument'], ['n9cec5a2737044b70984e15c0e36cca01b5', 'http://www.w3.org/2006/vcard/ns#locality', 'Cambridge'], ['https://www.w3.org/People/Berners-Lee/card', 'http://creativecommons.org/ns#license', 'http://creativecommons.org/licenses/by-nc/3.0/'], ['n9cec5a2737044b70984e15c0e36cca01b1', 'http://www.w3.org/1999/02/22-rdf-syntax-ns#type', 'http://www.w3.org/ns/auth/cert#RSAPublicKey'], ['https://timbl.com/timbl/Public/friends.ttl', 'http://xmlns.com/foaf/0.1/maker', 'https://www.w3.org/People/Berners-Lee/card#i'], ['https://www.w3.org/People/Berners-Lee/card#i', 'http://xmlns.com/foaf/0.1/img', 'https://www.w3.org/Press/Stock/Berners-Lee/2001-europaeum-eighth.jpg'], ['http://www.w3.org/data#W3C', 'http://xmlns.com/foaf/0.1/member', 'https://www.w3.org/People/Berners-Lee/card#i'], ['n9cec5a2737044b70984e15c0e36cca01b3', 'http://www.w3.org/2000/10/swap/pim/contact#street2', 'MIT CSAIL Building 32'], ['https://www.w3.org/People/Berners-Lee/card#i', 'http://xmlns.com/foaf/0.1/family_name', 'Berners-Lee'], ['http://dig.csail.mit.edu/breadcrumbs/blog/4', 'http://xmlns.com/foaf/0.1/maker', 'https://www.w3.org/People/Berners-Lee/card#i'], ['https://www.w3.org/People/Berners-Lee/card', 'http://xmlns.com/foaf/0.1/primaryTopic', 'https://www.w3.org/People/Berners-Lee/card#i'], ['http://dig.csail.mit.edu/data#DIG', 'http://xmlns.com/foaf/0.1/member', 'https://www.w3.org/People/Berners-Lee/card#i'], ['http://wiki.ontoworld.org/index.php/_IRW2006', 'http://purl.org/dc/elements/1.1/title', 'Identity, Reference and the Web workshop 2006'], ['n9cec5a2737044b70984e15c0e36cca01b1', 'http://www.w3.org/ns/auth/cert#exponent', '65537'], ['https://www.w3.org/People/Berners-Lee/card#i', 'http://xmlns.com/foaf/0.1/mbox', 'mailto:timbl@w3.org'], ['https://www.w3.org/People/Berners-Lee/card#i', 'http://www.w3.org/ns/solid/terms#profileHighlightColor', '#00467E'], ['n9cec5a2737044b70984e15c0e36cca01b5', 'http://www.w3.org/1999/02/22-rdf-syntax-ns#type', 'http://www.w3.org/2006/vcard/ns#Work'], ['n9cec5a2737044b70984e15c0e36cca01b4', 'http://www.w3.org/2003/01/geo/wgs84_pos#lat', '42.361860'], ['https://www.w3.org/People/Berners-Lee/card#i', 'http://www.w3.org/2000/10/swap/pim/contact#homePage', 'https://www.w3.org/People/Berners-Lee/'], ['n9cec5a2737044b70984e15c0e36cca01b5', 'http://www.w3.org/2006/vcard/ns#region', 'MA'], ['https://www.w3.org/People/Berners-Lee/card#i', 'http://www.w3.org/2000/01/rdf-schema#seeAlso', 'https://timbl.com/timbl/Public/friends.ttl'], ['https://www.w3.org/People/Berners-Lee/card#i', 'http://www.w3.org/2000/10/swap/pim/contact#assistant', 'https://www.w3.org/People/Berners-Lee/card#amy'], ['n9cec5a2737044b70984e15c0e36cca01b5', 'http://www.w3.org/2006/vcard/ns#street-address', '32 Vassar Street']] ;\n",
              "\n",
              "\tvar svg = d3.select(\"#svg-body\").append(\"svg\")\n",
              "\t\t\t\t.attr(\"width\", 1000 )\n",
              "\t\t\t\t.attr(\"height\", 1000 )\n",
              "\t\t\t\t;\n",
              "\n",
              "\tvar force = d3.layout.force().size([ 1000, 1000 ]);\n",
              "\n",
              "\tvar graph = triplesToGraph(triples);\n",
              "\n",
              "\tupdate();\n",
              "\n",
              "  </script>\n"
            ]
          },
          "metadata": {}
        }
      ]
    },
    {
      "cell_type": "markdown",
      "source": [
        "---\n",
        "https://rathachai.creatier.pro/\n",
        "\n",
        "## つづく"
      ],
      "metadata": {
        "id": "Mit513FbveGF"
      }
    }
  ]
}